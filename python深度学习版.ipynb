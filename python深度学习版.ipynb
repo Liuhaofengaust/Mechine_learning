{
 "cells": [
  {
   "cell_type": "code",
   "execution_count": 1,
   "metadata": {},
   "outputs": [
    {
     "name": "stdout",
     "output_type": "stream",
     "text": [
      "\n",
      "Making a 16-inch pizza whith the following toppings: \n",
      "- pepperoni\n",
      "\n",
      "Making a 12-inch pizza whith the following toppings: \n",
      "- musix\n",
      "- hauiy\n",
      "- hads\n",
      "- taweu\n"
     ]
    }
   ],
   "source": [
    "<div class=\"girk\">\n",
    "def make_pizza (size , *toppings):          #传递位置实参  和  任意数量实参\n",
    "    print('\\nMaking a ' + str(size) +\n",
    "          \"-inch pizza whith the following toppings: \")\n",
    "    for topping in toppings:\n",
    "        print(\"- \" + topping)\n",
    "make_pizza(16,'pepperoni')\n",
    "make_pizza(12,'musix','hauiy','hads','taweu')</div><i class=\"fa fa-lightbulb-o \"></i>"
   ]
  },
  {
   "cell_type": "code",
   "execution_count": 6,
   "metadata": {},
   "outputs": [
    {
     "name": "stdout",
     "output_type": "stream",
     "text": [
      "{'first': 'albert', 'last': 'einstens', 'location': 'princeton', 'field': 'physics'}\n"
     ]
    }
   ],
   "source": [
    "# 第二段\n",
    "def build_profile(first,last,**user_info):  #  **user_info是创建了一个空字典 ，并将接收的所有的名称—值对封装到该字典中\n",
    "    profile = {}\n",
    "    profile['first'] = first\n",
    "    profile['last'] = last\n",
    "    for key,value in user_info.items():\n",
    "        profile[key] = value\n",
    "    return profile\n",
    "user_profile = build_profile(\"albert\",\"einstens\",      #位置实参\n",
    "                             location = 'princeton',   #名称-值对，也可看为关键字实参\n",
    "                             field = 'physics')\n",
    "print(user_profile)"
   ]
  },
  {
   "cell_type": "code",
   "execution_count": 7,
   "metadata": {},
   "outputs": [
    {
     "name": "stdout",
     "output_type": "stream",
     "text": [
      "{'color': 'green', 'point': 5, 'x_point': 0, 'y_point': 25}\n",
      "oringinal x-point:0\n"
     ]
    }
   ],
   "source": [
    "alien0 = {'color':\"green\",\"point\":5} #字典用换括号括起来 【键-值对】，“类似于C语言结构体”\n",
    "alien0['x_point'] = 0\n",
    "alien0['y_point'] = 25\n",
    "print(alien0)\n",
    "print(\"oringinal x-point:\" + str(alien0['x_point']))#这里注意的是，+号拼接时两边类型要一制；"
   ]
  },
  {
   "cell_type": "code",
   "execution_count": 8,
   "metadata": {},
   "outputs": [
    {
     "name": "stdout",
     "output_type": "stream",
     "text": [
      "刘记茶馆\n",
      "茶馆\n",
      "Kung Fu\n",
      "\n",
      "China\n",
      "10:00\n"
     ]
    }
   ],
   "source": [
    "class Restaurant():   #定义类\n",
    "    def __init__(self,restaurant_name,cuisine_type):\n",
    "        self.restaurant_name = restaurant_name\n",
    "        self.cuisine_type = cuisine_type\n",
    "    def describe_restaurant(self):\n",
    "        print(\"Kung Fu\")\n",
    "        print(\"\\nChina\")\n",
    "    def open_restaurant(self):\n",
    "        print(\"10:00\")\n",
    "a = Restaurant(\"刘记茶馆\",'茶馆')\n",
    "print(a.restaurant_name)\n",
    "print(a.cuisine_type)\n",
    "a.describe_restaurant()\n",
    "a.open_restaurant()"
   ]
  },
  {
   "cell_type": "markdown",
   "metadata": {},
   "source": [
    "### copy函数\n",
    "* copy，浅拷贝，并不会产生一个独立的对象单独存在，他只是将原有的数据块打上一个新标签，所以当其中一个标签被改变的时候，数据块就会发生变化，另一个标签也会随之改变\n",
    "* deepcopy，即将被复制对象完全再复制一遍作为独立的新个体单独存在。所以改变原有被复制对象不会对已经复制出来的新对象产生影响\n",
    "* 对于单层list,两者没区别。\n",
    "* 但list 中套着 list 的情况，shallow copy 中的 子list，并未从原 object 真的「独立」出来"
   ]
  },
  {
   "cell_type": "code",
   "execution_count": 1,
   "metadata": {
    "ExecuteTime": {
     "end_time": "2022-10-07T13:37:53.983627Z",
     "start_time": "2022-10-07T13:37:53.978403Z"
    }
   },
   "outputs": [
    {
     "name": "stdout",
     "output_type": "stream",
     "text": [
      "List3:['1', '2', 3, 'a', ['b', 'c']]\n",
      "List4:['1', '2', 3, 'a', ['b', 'c']]\n",
      "List1:['1', '2', 3, 'a', ['b', 'c', 'd'], 'test']\n",
      "List2:['1', '2', 3, 'a', ['b', 'c', 'd'], 'test']\n",
      "List3:['1', '2', 3, 'a', ['b', 'c', 'd']]\n",
      "List4:['1', '2', 3, 'a', ['b', 'c']]\n"
     ]
    }
   ],
   "source": [
    "import copy\n",
    "\n",
    "List1 = ['1', '2', 3, 'a', ['b', 'c']]\n",
    "List2 = List1        # 将List1赋给List2\n",
    "List3 = copy.copy(List1)       # 浅拷贝\n",
    "List4 = copy.deepcopy(List1)   # 深拷贝\n",
    "\n",
    "print('List3:%s' % List3)\n",
    "print('List4:%s' % List4)\n",
    "\n",
    "List1.append('test')     # 在List1末尾添加'test'，第一层改动不会影响浅拷贝\n",
    "List1[4].append('d')     # 在List1中['b','c']的末尾添加'd'，第二层改动会影响浅拷贝\n",
    "\n",
    "print('List1:%s' % List1)\n",
    "print('List2:%s' % List2)\n",
    "print('List3:%s' % List3)\n",
    "print('List4:%s' % List4)\n"
   ]
  },
  {
   "cell_type": "markdown",
   "metadata": {},
   "source": [
    "### 字典遍历"
   ]
  },
  {
   "cell_type": "code",
   "execution_count": 9,
   "metadata": {
    "ExecuteTime": {
     "end_time": "2022-10-08T02:18:33.578005Z",
     "start_time": "2022-10-08T02:18:33.572240Z"
    }
   },
   "outputs": [
    {
     "name": "stdout",
     "output_type": "stream",
     "text": [
      "key: 1\n",
      "key: 2\n",
      "key: 3\n",
      "item:  (1, 'a')\n",
      "item:  (2, 'b')\n",
      "item:  (3, 'c')\n",
      "key=1, value=a\n",
      "key=2, value=b\n",
      "key=3, value=c\n"
     ]
    }
   ],
   "source": [
    "dict = {1:\"a\", 2:\"b\", 3:\"c\"}\n",
    "\n",
    "# 遍历key value\n",
    "for key in dict.keys():   # dict.values()\n",
    "    print(\"key:\", key)\n",
    "    \n",
    "# 遍历字典的项\n",
    "for item in dict.items():\n",
    "    print(\"item: \", item)\n",
    "    \n",
    "# 遍历字典的键值对\n",
    "for key,value in dict.items():\n",
    "    print(\"key=%s, value=%s\"%(key, value) )"
   ]
  },
  {
   "cell_type": "markdown",
   "metadata": {},
   "source": [
    "### enumrate函数\n",
    "* enumerate() 函数用于将一个可遍历的数据对象(如列表、元组或字符串)组合为一个索引序列，同时列出数据和数据下标，一般用在 for 循环当中。\n",
    "* enumerate(iteration, start)函数默认包含两个参数，其中iteration参数为需要遍历的参数，比如字典、列表、元组等，start参数为开始的参数，默认为0（不写start那就是从0开始）。\n",
    "* enumerate函数有两个返回值，第一个返回值为从start参数开始的数，第二个参数为iteration参数中的值。"
   ]
  },
  {
   "cell_type": "code",
   "execution_count": 22,
   "metadata": {
    "ExecuteTime": {
     "end_time": "2022-10-08T03:57:55.738475Z",
     "start_time": "2022-10-08T03:57:55.725148Z"
    }
   },
   "outputs": [
    {
     "name": "stdout",
     "output_type": "stream",
     "text": [
      "1 1\n",
      "2 2\n",
      "3 3\n",
      "a: [(0, 1), (1, 2), (2, 3)]\n",
      "c: [(0, 'a'), (1, 'b'), (2, 'c')]\n"
     ]
    }
   ],
   "source": [
    "b = {1:\"a\", 2:\"b\", 3:\"c\"}\n",
    "for i, x in enumerate(b, 1):\n",
    "    print(i, x)\n",
    "    \n",
    "# 输出字典key列表\n",
    "a = list(enumerate(b))\n",
    "print(\"a:\", a)\n",
    "\n",
    "# 输出字典value列表\n",
    "c = list(enumerate(b.values()))\n",
    "print(\"c:\", c)\n",
    "\n",
    "# dataloader的常用操作\n",
    "# for i, (inputs, labels) in enumerate(dataloaders['val']):"
   ]
  },
  {
   "cell_type": "code",
   "execution_count": 14,
   "metadata": {
    "ExecuteTime": {
     "end_time": "2022-10-08T02:43:16.273064Z",
     "start_time": "2022-10-08T02:43:16.270210Z"
    }
   },
   "outputs": [],
   "source": [
    "### 快速构建列表、字典"
   ]
  },
  {
   "cell_type": "code",
   "execution_count": 20,
   "metadata": {
    "ExecuteTime": {
     "end_time": "2022-10-08T02:53:17.655822Z",
     "start_time": "2022-10-08T02:53:17.649064Z"
    }
   },
   "outputs": [
    {
     "name": "stdout",
     "output_type": "stream",
     "text": [
      "fora: [(1, 4), (1, 5), (1, 6), (2, 4), (2, 5), (2, 6), (3, 4), (3, 5), (3, 6)] \n",
      " forifa: [(2, 4), (2, 6)]\n",
      "d: {1: 2, 2: 4, 3: 6}\n"
     ]
    }
   ],
   "source": [
    "a = [1, 2, 3]\n",
    "b = [4, 5, 6]\n",
    "fora = [(x, y) for x in a for y in b]\n",
    "forifa = [(x,y) for x in a for y in b if x%2==0 and y%2==0]\n",
    "\n",
    "print(\"fora:\",fora, \"\\n\", \"forifa:\", forifa)\n",
    "\n",
    "# 创建字典\n",
    "d = {x:x*2 for x in a}\n",
    "print(\"d:\", d)"
   ]
  }
 ],
 "metadata": {
  "kernelspec": {
   "display_name": "Python 3",
   "language": "python",
   "name": "python3"
  },
  "language_info": {
   "codemirror_mode": {
    "name": "ipython",
    "version": 3
   },
   "file_extension": ".py",
   "mimetype": "text/x-python",
   "name": "python",
   "nbconvert_exporter": "python",
   "pygments_lexer": "ipython3",
   "version": "3.8.5"
  },
  "toc": {
   "base_numbering": 1,
   "nav_menu": {},
   "number_sections": true,
   "sideBar": true,
   "skip_h1_title": false,
   "title_cell": "Table of Contents",
   "title_sidebar": "Contents",
   "toc_cell": false,
   "toc_position": {
    "height": "197.676px",
    "left": "49px",
    "top": "154px",
    "width": "160.946px"
   },
   "toc_section_display": true,
   "toc_window_display": false
  },
  "varInspector": {
   "cols": {
    "lenName": 16,
    "lenType": 16,
    "lenVar": 40
   },
   "kernels_config": {
    "python": {
     "delete_cmd_postfix": "",
     "delete_cmd_prefix": "del ",
     "library": "var_list.py",
     "varRefreshCmd": "print(var_dic_list())"
    },
    "r": {
     "delete_cmd_postfix": ") ",
     "delete_cmd_prefix": "rm(",
     "library": "var_list.r",
     "varRefreshCmd": "cat(var_dic_list()) "
    }
   },
   "types_to_exclude": [
    "module",
    "function",
    "builtin_function_or_method",
    "instance",
    "_Feature"
   ],
   "window_display": false
  }
 },
 "nbformat": 4,
 "nbformat_minor": 2
}
