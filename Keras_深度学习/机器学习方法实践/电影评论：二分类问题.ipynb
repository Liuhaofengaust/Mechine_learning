{
 "cells": [
  {
   "cell_type": "markdown",
   "metadata": {},
   "source": [
    "# 电影评论分类：二分类问题 "
   ]
  },
  {
   "cell_type": "code",
   "execution_count": 2,
   "metadata": {},
   "outputs": [],
   "source": [
    "from keras.datasets import imdb\n",
    "\n",
    "(train_data, train_labels), (test_data, test_labels) = imdb.load_data(\n",
    "    num_words = 10000)"
   ]
  },
  {
   "cell_type": "code",
   "execution_count": 7,
   "metadata": {},
   "outputs": [],
   "source": [
    "word_index = imdb.get_word_index()     #将一个单词映射为整数索引的字典\n",
    "reverse_word_index = dict(\n",
    "    [(value, key) for (key, value) in word_index.items()])\n",
    "decoded_review = ' '.join(\n",
    "    [reverse_word_index.get(i - 3, '?')for i in train_data[0]])"
   ]
  },
  {
   "cell_type": "markdown",
   "metadata": {},
   "source": [
    "## 将整数序列编码为二进制矩阵  得以将数据输入神经网络中"
   ]
  },
  {
   "cell_type": "code",
   "execution_count": 12,
   "metadata": {},
   "outputs": [],
   "source": [
    "import numpy as np\n",
    "\n",
    "def vectorize_sequences(sequences, dimension=10000):\n",
    "    results = np.zeros((len(sequences), dimension))\n",
    "    for i, sequence in enumerate(sequences):\n",
    "        results[i, sequence] = 1.\n",
    "    return results\n",
    "\n",
    "#将数据向量化\n",
    "x_train = vectorize_sequences(train_data)\n",
    "x_test = vectorize_sequences(test_data)\n",
    "\n",
    "#将标签向量化\n",
    "y_train = np.asarray(train_labels).astype('float32')\n",
    "y_test = np.asarray(test_labels).astype('float32')"
   ]
  },
  {
   "cell_type": "markdown",
   "metadata": {},
   "source": [
    "## 构建网络"
   ]
  },
  {
   "cell_type": "code",
   "execution_count": 13,
   "metadata": {},
   "outputs": [
    {
     "name": "stdout",
     "output_type": "stream",
     "text": [
      "WARNING:tensorflow:From /home/wukong/.local/lib/python3.6/site-packages/tensorflow/python/ops/nn_impl.py:180: add_dispatch_support.<locals>.wrapper (from tensorflow.python.ops.array_ops) is deprecated and will be removed in a future version.\n",
      "Instructions for updating:\n",
      "Use tf.where in 2.0, which has the same broadcast rule as np.where\n"
     ]
    }
   ],
   "source": [
    "# 模型定义\n",
    "from keras import models\n",
    "from keras import layers\n",
    "\n",
    "model = models.Sequential()\n",
    "\n",
    "# 添加三层网络，relu函数将所有负值归零，sigmoid将任意值压缩到[0-1]其输出可看做概率值\n",
    "model.add(layers.Dense(16, activation='relu', input_shape=(10000,)))\n",
    "model.add(layers.Dense(16, activation='relu'))\n",
    "model.add(layers.Dense(1, activation='sigmoid'))\n",
    "\n",
    "# 编译模型\n",
    "model.compile(optimizer='rmsprop',           #优化器\n",
    "             loss = 'binary_crossentropy',   #损失函数\n",
    "             metrics=['accuracy'])           #度量标准\n"
   ]
  },
  {
   "cell_type": "markdown",
   "metadata": {},
   "source": [
    "## 验证方法"
   ]
  },
  {
   "cell_type": "code",
   "execution_count": 26,
   "metadata": {},
   "outputs": [
    {
     "name": "stdout",
     "output_type": "stream",
     "text": [
      "Train on 15000 samples, validate on 10000 samples\n",
      "Epoch 1/20\n",
      "15000/15000 [==============================] - 1s 66us/step - loss: 0.1444 - acc: 0.9466 - val_loss: 0.1412 - val_acc: 0.9489\n",
      "Epoch 2/20\n",
      "15000/15000 [==============================] - 1s 58us/step - loss: 0.1089 - acc: 0.9637 - val_loss: 0.1536 - val_acc: 0.9427\n",
      "Epoch 3/20\n",
      "15000/15000 [==============================] - 1s 60us/step - loss: 0.0926 - acc: 0.9694 - val_loss: 0.1716 - val_acc: 0.9355\n",
      "Epoch 4/20\n",
      "15000/15000 [==============================] - 1s 55us/step - loss: 0.0737 - acc: 0.9780 - val_loss: 0.1915 - val_acc: 0.9296\n",
      "Epoch 5/20\n",
      "15000/15000 [==============================] - 1s 56us/step - loss: 0.0617 - acc: 0.9821 - val_loss: 0.2177 - val_acc: 0.9205\n",
      "Epoch 6/20\n",
      "15000/15000 [==============================] - 1s 55us/step - loss: 0.0485 - acc: 0.9878 - val_loss: 0.2370 - val_acc: 0.9182\n",
      "Epoch 7/20\n",
      "15000/15000 [==============================] - 1s 54us/step - loss: 0.0418 - acc: 0.9891 - val_loss: 0.2660 - val_acc: 0.9121\n",
      "Epoch 8/20\n",
      "15000/15000 [==============================] - 1s 56us/step - loss: 0.0334 - acc: 0.9927 - val_loss: 0.2947 - val_acc: 0.9088\n",
      "Epoch 9/20\n",
      "15000/15000 [==============================] - 1s 55us/step - loss: 0.0264 - acc: 0.9949 - val_loss: 0.3221 - val_acc: 0.9072\n",
      "Epoch 10/20\n",
      "15000/15000 [==============================] - 1s 55us/step - loss: 0.0220 - acc: 0.9961 - val_loss: 0.3567 - val_acc: 0.9045\n",
      "Epoch 11/20\n",
      "15000/15000 [==============================] - 1s 54us/step - loss: 0.0210 - acc: 0.9959 - val_loss: 0.3772 - val_acc: 0.9028\n",
      "Epoch 12/20\n",
      "15000/15000 [==============================] - 1s 59us/step - loss: 0.0113 - acc: 0.9991 - val_loss: 0.4696 - val_acc: 0.8832\n",
      "Epoch 13/20\n",
      "15000/15000 [==============================] - 1s 60us/step - loss: 0.0151 - acc: 0.9965 - val_loss: 0.4465 - val_acc: 0.8959\n",
      "Epoch 14/20\n",
      "15000/15000 [==============================] - 1s 55us/step - loss: 0.0062 - acc: 0.9998 - val_loss: 0.4702 - val_acc: 0.8938\n",
      "Epoch 15/20\n",
      "15000/15000 [==============================] - 1s 54us/step - loss: 0.0101 - acc: 0.9981 - val_loss: 0.4994 - val_acc: 0.8928\n",
      "Epoch 16/20\n",
      "15000/15000 [==============================] - 1s 59us/step - loss: 0.0037 - acc: 0.9999 - val_loss: 0.5306 - val_acc: 0.8904\n",
      "Epoch 17/20\n",
      "15000/15000 [==============================] - 1s 56us/step - loss: 0.0087 - acc: 0.9975 - val_loss: 0.5613 - val_acc: 0.8898\n",
      "Epoch 18/20\n",
      "15000/15000 [==============================] - 1s 58us/step - loss: 0.0023 - acc: 0.9999 - val_loss: 0.5887 - val_acc: 0.8886\n",
      "Epoch 19/20\n",
      "15000/15000 [==============================] - 1s 56us/step - loss: 0.0083 - acc: 0.9978 - val_loss: 0.6252 - val_acc: 0.8868\n",
      "Epoch 20/20\n",
      "15000/15000 [==============================] - 1s 58us/step - loss: 0.0013 - acc: 0.9999 - val_loss: 0.6443 - val_acc: 0.8856\n"
     ]
    }
   ],
   "source": [
    "# 留出验证集\n",
    "x_val = x_train[:10000]\n",
    "partial_x_train = x_train[10000:]\n",
    "\n",
    "y_val = y_train[:10000]\n",
    "partial_y_train = y_train[10000:]\n",
    "\n",
    "model.compile(optimizer='rmsprop',\n",
    "             loss='binary_crossentropy',\n",
    "             metrics=['acc'])\n",
    "\n",
    "# 训练模型\n",
    "history = model.fit(partial_x_train,      #fit方法返回一个history对象，有一个成员（一个字典，包含训练过程的所有数据）\n",
    "                    partial_y_train,\n",
    "                    epochs = 20,\n",
    "                    batch_size = 512,     # 小批量数据\n",
    "                    validation_data = (x_val, y_val))"
   ]
  },
  {
   "cell_type": "code",
   "execution_count": 27,
   "metadata": {},
   "outputs": [
    {
     "data": {
      "image/png": "[encoded data removed]",
      "text/plain": [
       "<Figure size 432x288 with 1 Axes>"
      ]
     },
     "metadata": {
      "needs_background": "light"
     },
     "output_type": "display_data"
    }
   ],
   "source": [
    "# 绘制训练损失和验证损失\n",
    "import matplotlib.pyplot as plt\n",
    "\n",
    "history_dict = history.history             #history对象的history成员\n",
    "loss_values = history_dict['loss']\n",
    "val_loss_values = history_dict['val_loss']\n",
    "\n",
    "epochs = range(1, len(loss_values)+1)\n",
    "\n",
    "plt.plot(epochs, loss_values, 'bo', label='Training loss')     #bo表示圆点，b表示实线\n",
    "plt.plot(epochs, val_loss_values, 'b', label='Validation loss')\n",
    "plt.title('Training and validation loss')\n",
    "plt.xlabel('Epochs')\n",
    "plt.ylabel('Loss')\n",
    "plt.legend()\n",
    "\n",
    "plt.show()"
   ]
  },
  {
   "cell_type": "code",
   "execution_count": 28,
   "metadata": {},
   "outputs": [
    {
     "data": {
      "image/png": "[encoded data removed]",
      "text/plain": [
       "<Figure size 432x288 with 1 Axes>"
      ]
     },
     "metadata": {
      "needs_background": "light"
     },
     "output_type": "display_data"
    }
   ],
   "source": [
    "# 绘制训练精度和验证精度\n",
    "plt.clf()   #清空图像\n",
    "acc = history_dict['acc']\n",
    "val_acc = history_dict['val_acc']\n",
    "\n",
    "plt.plot(epochs, acc, 'bo', label='Training acc')\n",
    "plt.plot(epochs, val_acc, 'b', label='Validation acc')\n",
    "plt.title('Training and validation accuracy')\n",
    "plt.xlabel('Epochs')\n",
    "plt.ylabel('Accuracy')\n",
    "plt.legend()\n",
    "\n",
    "plt.show()"
   ]
  },
  {
   "cell_type": "code",
   "execution_count": 29,
   "metadata": {},
   "outputs": [
    {
     "data": {
      "text/plain": [
       "array([[0.00174549],\n",
       "       [1.        ],\n",
       "       [0.95403016],\n",
       "       ...,\n",
       "       [0.00119472],\n",
       "       [0.00731209],\n",
       "       [0.7320549 ]], dtype=float32)"
      ]
     },
     "execution_count": 29,
     "metadata": {},
     "output_type": "execute_result"
    }
   ],
   "source": [
    "model.predict(x_test)   # （预测结果）得到评论为正面的可能性大小"
   ]
  },
  {
   "cell_type": "markdown",
   "metadata": {},
   "source": [
    "## 至此，模型已经训练并表示出来，可以看出在第4轮达到了最优值，故再训练一个模型"
   ]
  },
  {
   "cell_type": "code",
   "execution_count": 30,
   "metadata": {},
   "outputs": [
    {
     "name": "stdout",
     "output_type": "stream",
     "text": [
      "Epoch 1/4\n",
      "25000/25000 [==============================] - 1s 41us/step - loss: 0.4654 - accuracy: 0.8272\n",
      "Epoch 2/4\n",
      "25000/25000 [==============================] - 1s 36us/step - loss: 0.2687 - accuracy: 0.9077\n",
      "Epoch 3/4\n",
      "25000/25000 [==============================] - 1s 37us/step - loss: 0.2056 - accuracy: 0.9264\n",
      "Epoch 4/4\n",
      "25000/25000 [==============================] - 1s 37us/step - loss: 0.1732 - accuracy: 0.9388\n",
      "25000/25000 [==============================] - 1s 51us/step\n"
     ]
    }
   ],
   "source": [
    "# 构建神经网络\n",
    "model = models.Sequential()\n",
    "model.add(layers.Dense(16, activation='relu', input_shape=(10000,)))\n",
    "model.add(layers.Dense(16, activation='relu' ))\n",
    "model.add(layers.Dense(1, activation='sigmoid'))\n",
    "\n",
    "# 配置模型\n",
    "model.compile(optimizer='rmsprop',\n",
    "              loss='binary_crossentropy',\n",
    "              metrics=['accuracy'])\n",
    "\n",
    "model.fit(x_train, y_train, epochs=4, batch_size=512)\n",
    "\n",
    "results = model.evaluate(x_test, y_test)   # 测试数据损失和精度"
   ]
  },
  {
   "cell_type": "code",
   "execution_count": 35,
   "metadata": {},
   "outputs": [
    {
     "data": {
      "text/plain": [
       "[0.28808176847457884, 0.8864399790763855]"
      ]
     },
     "execution_count": 35,
     "metadata": {},
     "output_type": "execute_result"
    }
   ],
   "source": [
    "results"
   ]
  },
  {
   "cell_type": "code",
   "execution_count": null,
   "metadata": {},
   "outputs": [],
   "source": []
  }
 ],
 "metadata": {
  "kernelspec": {
   "display_name": "Python 3",
   "language": "python",
   "name": "python3"
  },
  "language_info": {
   "codemirror_mode": {
    "name": "ipython",
    "version": 3
   },
   "file_extension": ".py",
   "mimetype": "text/x-python",
   "name": "python",
   "nbconvert_exporter": "python",
   "pygments_lexer": "ipython3",
   "version": "3.6.10"
  }
 },
 "nbformat": 4,
 "nbformat_minor": 2
}
