{
 "cells": [
  {
   "cell_type": "markdown",
   "metadata": {},
   "source": [
    "# 新闻分类：多分类问题"
   ]
  },
  {
   "cell_type": "code",
   "execution_count": 4,
   "metadata": {},
   "outputs": [],
   "source": [
    "from keras.datasets import reuters\n",
    "\n",
    "(train_data, train_labels), (test_data, test_labels) = reuters.load_data(\n",
    "    num_words = 10000)  # 将数据限定为10000个最常出现的单词"
   ]
  },
  {
   "cell_type": "markdown",
   "metadata": {},
   "source": [
    "## 将索引解码为新闻文本"
   ]
  },
  {
   "cell_type": "code",
   "execution_count": 6,
   "metadata": {},
   "outputs": [
    {
     "name": "stdout",
     "output_type": "stream",
     "text": [
      "Downloading data from https://s3.amazonaws.com/text-datasets/reuters_word_index.json\n",
      "557056/550378 [==============================] - 95s 171us/step\n"
     ]
    }
   ],
   "source": [
    "word_index = reuters.get_word_index()\n",
    "\n",
    "reverse_word_index = dict([value, key] for (key, value) in word_index.items())\n",
    "dexoded_newswire = ' '.join([reverse_word_index.get(i-3, '?') for i in train_data[0]])"
   ]
  },
  {
   "cell_type": "markdown",
   "metadata": {},
   "source": [
    "## 准备数据 "
   ]
  },
  {
   "cell_type": "code",
   "execution_count": 8,
   "metadata": {},
   "outputs": [],
   "source": [
    "import numpy as np\n",
    "\n",
    "# 将数据向量化\n",
    "def vectorize_sequences(sequences, dimension=10000):\n",
    "    results = np.zeros((len(sequences), dimension))\n",
    "    for i, sequence in enumerate(sequences):\n",
    "        results[i, sequence] = 1.\n",
    "    return results\n",
    "\n",
    "x_train = vectorize_sequences(train_data)\n",
    "x_test = vectorize_sequences(test_data)\n",
    "\n",
    "# 将标签向量化\n",
    "def to_one_hot(labels, dimension=46):  # 共有46个类，输出类别就是46个，在构建神经网络层的超参数时注意加大中间层的维数\n",
    "    results = np.zeros((len(labels), dimension))\n",
    "    for i, label in enumerate(labels):\n",
    "        results[i, label] = 1.\n",
    "    return results\n",
    "\n",
    "on_hot_train_labels = to_one_hot(train_labels)\n",
    "on_hot_test_labels = to_one_hot(test_labels)"
   ]
  },
  {
   "cell_type": "code",
   "execution_count": 12,
   "metadata": {},
   "outputs": [],
   "source": [
    "from keras import models\n",
    "from keras import layers\n",
    "\n",
    "model = models.Sequential()\n",
    "\n",
    "model.add(layers.Dense(64, activation='relu', input_shape=(10000,)))\n",
    "model.add(layers.Dense(64, activation='relu'))\n",
    "model.add(layers.Dense(46, activation='softmax'))  # 输出层表示输出一个46维的向量，该激活函数输出46个不同类别上的概率分布"
   ]
  },
  {
   "cell_type": "code",
   "execution_count": 14,
   "metadata": {},
   "outputs": [],
   "source": [
    "# 编译模型\n",
    "model.compile(optimizer='rmsprop',\n",
    "              loss='categorical_crossentropy',\n",
    "              metrics=['accuracy'])"
   ]
  },
  {
   "cell_type": "code",
   "execution_count": 16,
   "metadata": {},
   "outputs": [],
   "source": [
    "x_val = x_train[:1000]\n",
    "partial_x_train = x_train[1000:]\n",
    "\n",
    "y_val = on_hot_train_labels[:1000]\n",
    "partial_y_train = on_hot_train_labels[1000:]"
   ]
  },
  {
   "cell_type": "code",
   "execution_count": 17,
   "metadata": {},
   "outputs": [
    {
     "name": "stdout",
     "output_type": "stream",
     "text": [
      "WARNING:tensorflow:From /home/wukong/anaconda3/envs/deeplearning/lib/python3.6/site-packages/Keras-2.3.1-py3.6.egg/keras/backend/tensorflow_backend.py:422: The name tf.global_variables is deprecated. Please use tf.compat.v1.global_variables instead.\n",
      "\n",
      "Train on 7982 samples, validate on 1000 samples\n",
      "Epoch 1/20\n",
      "7982/7982 [==============================] - 1s 88us/step - loss: 2.6566 - accuracy: 0.5263 - val_loss: 1.7937 - val_accuracy: 0.6360\n",
      "Epoch 2/20\n",
      "7982/7982 [==============================] - 1s 70us/step - loss: 1.4758 - accuracy: 0.6976 - val_loss: 1.3272 - val_accuracy: 0.7030\n",
      "Epoch 3/20\n",
      "7982/7982 [==============================] - 1s 67us/step - loss: 1.1002 - accuracy: 0.7648 - val_loss: 1.1340 - val_accuracy: 0.7530\n",
      "Epoch 4/20\n",
      "7982/7982 [==============================] - 1s 70us/step - loss: 0.8730 - accuracy: 0.8155 - val_loss: 1.0391 - val_accuracy: 0.7740\n",
      "Epoch 5/20\n",
      "7982/7982 [==============================] - 1s 63us/step - loss: 0.7017 - accuracy: 0.8505 - val_loss: 0.9607 - val_accuracy: 0.7960\n",
      "Epoch 6/20\n",
      "7982/7982 [==============================] - 1s 64us/step - loss: 0.5659 - accuracy: 0.8832 - val_loss: 0.9125 - val_accuracy: 0.8060\n",
      "Epoch 7/20\n",
      "7982/7982 [==============================] - 1s 64us/step - loss: 0.4540 - accuracy: 0.9064 - val_loss: 0.8803 - val_accuracy: 0.8110\n",
      "Epoch 8/20\n",
      "7982/7982 [==============================] - 1s 70us/step - loss: 0.3692 - accuracy: 0.9238 - val_loss: 0.8576 - val_accuracy: 0.8190\n",
      "Epoch 9/20\n",
      "7982/7982 [==============================] - 0s 56us/step - loss: 0.3036 - accuracy: 0.9364 - val_loss: 0.8688 - val_accuracy: 0.8260\n",
      "Epoch 10/20\n",
      "7982/7982 [==============================] - 0s 61us/step - loss: 0.2540 - accuracy: 0.9422 - val_loss: 0.8730 - val_accuracy: 0.8190\n",
      "Epoch 11/20\n",
      "7982/7982 [==============================] - 1s 63us/step - loss: 0.2156 - accuracy: 0.9474 - val_loss: 0.8892 - val_accuracy: 0.8140\n",
      "Epoch 12/20\n",
      "7982/7982 [==============================] - 1s 65us/step - loss: 0.1916 - accuracy: 0.9500 - val_loss: 0.8787 - val_accuracy: 0.8240\n",
      "Epoch 13/20\n",
      "7982/7982 [==============================] - 0s 62us/step - loss: 0.1677 - accuracy: 0.9515 - val_loss: 0.9151 - val_accuracy: 0.8140\n",
      "Epoch 14/20\n",
      "7982/7982 [==============================] - 1s 63us/step - loss: 0.1526 - accuracy: 0.9549 - val_loss: 0.9430 - val_accuracy: 0.8110\n",
      "Epoch 15/20\n",
      "7982/7982 [==============================] - 1s 67us/step - loss: 0.1454 - accuracy: 0.9544 - val_loss: 0.9471 - val_accuracy: 0.8130\n",
      "Epoch 16/20\n",
      "7982/7982 [==============================] - 1s 72us/step - loss: 0.1274 - accuracy: 0.9579 - val_loss: 1.0023 - val_accuracy: 0.8070\n",
      "Epoch 17/20\n",
      "7982/7982 [==============================] - 1s 68us/step - loss: 0.1241 - accuracy: 0.9565 - val_loss: 0.9854 - val_accuracy: 0.8120\n",
      "Epoch 18/20\n",
      "7982/7982 [==============================] - 1s 68us/step - loss: 0.1207 - accuracy: 0.9568 - val_loss: 1.0034 - val_accuracy: 0.8030\n",
      "Epoch 19/20\n",
      "7982/7982 [==============================] - 1s 74us/step - loss: 0.1122 - accuracy: 0.9585 - val_loss: 1.0308 - val_accuracy: 0.8090\n",
      "Epoch 20/20\n",
      "7982/7982 [==============================] - 1s 72us/step - loss: 0.1083 - accuracy: 0.9577 - val_loss: 0.9895 - val_accuracy: 0.8110\n"
     ]
    }
   ],
   "source": [
    "# 训练模型\n",
    "history = model.fit(partial_x_train,\n",
    "                    partial_y_train,\n",
    "                    epochs = 20,\n",
    "                    batch_size = 512,\n",
    "                    validation_data=(x_val, y_val))"
   ]
  },
  {
   "cell_type": "code",
   "execution_count": 18,
   "metadata": {},
   "outputs": [
    {
     "data": {
      "image/png": "[encoded data removed]",
      "text/plain": [
       "<Figure size 432x288 with 1 Axes>"
      ]
     },
     "metadata": {
      "needs_background": "light"
     },
     "output_type": "display_data"
    }
   ],
   "source": [
    "import matplotlib.pyplot as plt\n",
    "\n",
    "loss = history.history['loss']\n",
    "val_loss = history.history['val_loss']\n",
    "\n",
    "epochs = range(1, len(loss)+1)\n",
    "\n",
    "plt.plot(epochs, loss, 'bo', label='Training loss')\n",
    "plt.plot(epochs, val_loss, 'b', label='Validation loss')\n",
    "plt.title('Training and validation loss')\n",
    "plt.xlabel('Epochs')\n",
    "plt.ylabel('Loss')\n",
    "plt.legend()\n",
    "\n",
    "plt.show()"
   ]
  },
  {
   "cell_type": "code",
   "execution_count": 24,
   "metadata": {},
   "outputs": [
    {
     "data": {
      "image/png": "[encoded data removed]",
      "text/plain": [
       "<Figure size 432x288 with 1 Axes>"
      ]
     },
     "metadata": {
      "needs_background": "light"
     },
     "output_type": "display_data"
    }
   ],
   "source": [
    "plt.clf()\n",
    "acc = history.history['accuracy']\n",
    "val_acc = history.history['val_accuracy']\n",
    "\n",
    "plt.plot(epochs, acc, 'bo', label='Training acc')\n",
    "plt.plot(epochs, val_acc, 'b', label='Validation acc')\n",
    "plt.title('Training and validation accuracy')\n",
    "plt.xlabel('Epochs')\n",
    "plt.ylabel('Accuracy')\n",
    "plt.legend()\n",
    "\n",
    "plt.show()"
   ]
  },
  {
   "cell_type": "code",
   "execution_count": 25,
   "metadata": {},
   "outputs": [
    {
     "name": "stdout",
     "output_type": "stream",
     "text": [
      "2246/2246 [==============================] - 0s 75us/step\n"
     ]
    }
   ],
   "source": [
    "# 查看测试集损失和精度\n",
    "results = model.evaluate(x_test, on_hot_test_labels)"
   ]
  },
  {
   "cell_type": "code",
   "execution_count": 26,
   "metadata": {},
   "outputs": [
    {
     "data": {
      "text/plain": [
       "[1.1547462908370305, 0.7943009734153748]"
      ]
     },
     "execution_count": 26,
     "metadata": {},
     "output_type": "execute_result"
    }
   ],
   "source": [
    "results"
   ]
  },
  {
   "cell_type": "code",
   "execution_count": 40,
   "metadata": {},
   "outputs": [
    {
     "data": {
      "text/plain": [
       "3"
      ]
     },
     "execution_count": 40,
     "metadata": {},
     "output_type": "execute_result"
    }
   ],
   "source": [
    "predictions = model.predict(x_test)\n",
    "np.argmax(predictions[0])"
   ]
  },
  {
   "cell_type": "code",
   "execution_count": 49,
   "metadata": {},
   "outputs": [
    {
     "name": "stdout",
     "output_type": "stream",
     "text": [
      "Train on 7982 samples, validate on 1000 samples\n",
      "Epoch 1/3\n",
      "7982/7982 [==============================] - 1s 76us/step - loss: 3.7464 - accuracy: 0.0266 - val_loss: 3.6557 - val_accuracy: 0.0640\n",
      "Epoch 2/3\n",
      "7982/7982 [==============================] - 0s 58us/step - loss: 3.5835 - accuracy: 0.2320 - val_loss: 3.5182 - val_accuracy: 0.2300\n",
      "Epoch 3/3\n",
      "7982/7982 [==============================] - 0s 60us/step - loss: 3.4384 - accuracy: 0.3234 - val_loss: 3.3920 - val_accuracy: 0.4850\n",
      "2246/2246 [==============================] - 0s 64us/step\n"
     ]
    }
   ],
   "source": [
    "# 根据图标在训练一个新的模型\n",
    "\n",
    "model = models.Sequential()\n",
    "\n",
    "model.add(layers.Dense(46, activation='relu', input_shape=(10000,)))\n",
    "model.add(layers.Dense(1, activation='relu'))\n",
    "model.add(layers.Dense(46, activation='softmax'))  # 输出层表示输出一个46维的向量，该激活函数输出46个不同类别上的概率分布\n",
    "model.compile(optimizer='rmsprop',\n",
    "              loss='categorical_crossentropy',\n",
    "              metrics=['accuracy'])\n",
    "              \n",
    "model.fit(partial_x_train,\n",
    "          partial_y_train,\n",
    "          epochs = 3,\n",
    "          batch_size = 512,\n",
    "          validation_data=(x_val, y_val))\n",
    "\n",
    "results = model.evaluate(x_test, on_hot_test_labels)"
   ]
  },
  {
   "cell_type": "code",
   "execution_count": 50,
   "metadata": {},
   "outputs": [
    {
     "data": {
      "text/plain": [
       "[3.4391902110880226, 0.4826357960700989]"
      ]
     },
     "execution_count": 50,
     "metadata": {},
     "output_type": "execute_result"
    }
   ],
   "source": [
    "results"
   ]
  },
  {
   "cell_type": "code",
   "execution_count": 51,
   "metadata": {},
   "outputs": [
    {
     "data": {
      "text/plain": [
       "4"
      ]
     },
     "execution_count": 51,
     "metadata": {},
     "output_type": "execute_result"
    }
   ],
   "source": [
    "predictions = model.predict(x_test)\n",
    "np.argmax(predictions[0])"
   ]
  }
 ],
 "metadata": {
  "kernelspec": {
   "display_name": "Python 3",
   "language": "python",
   "name": "python3"
  },
  "language_info": {
   "codemirror_mode": {
    "name": "ipython",
    "version": 3
   },
   "file_extension": ".py",
   "mimetype": "text/x-python",
   "name": "python",
   "nbconvert_exporter": "python",
   "pygments_lexer": "ipython3",
   "version": "3.6.10"
  }
 },
 "nbformat": 4,
 "nbformat_minor": 2
}
