{
 "cells": [
  {
   "cell_type": "markdown",
   "id": "a32649fd",
   "metadata": {},
   "source": [
    "### 训练神经网络\n",
    "* 神经网络的典型训练过程如下：\n",
    "\n",
    "1. 定义包含一些可学习的参数(或者叫权重)神经网络模型；\n",
    "2. 在数据集上迭代；\n",
    "3. 通过神经网络处理输入；\n",
    "4. 计算损失(输出结果和正确值的差值大小)；\n",
    "5. 将梯度反向传播回网络的参数；\n",
    "6. 更新网络的参数，主要使用如下简单的更新原则： weight = weight - learning_rate * gradient\n"
   ]
  },
  {
   "cell_type": "markdown",
   "id": "69b7c44a",
   "metadata": {},
   "source": [
    "#### 定义网络\n",
    "\n",
    "* 在模型中必须要定义 forward 函数，backward 函数（用来计算梯度）会被autograd自动创建。 可以在 forward 函数中使用任何针对 Tensor 的操作"
   ]
  },
  {
   "cell_type": "code",
   "execution_count": 2,
   "id": "f91105b7",
   "metadata": {
    "ExecuteTime": {
     "end_time": "2022-10-02T09:42:12.195171Z",
     "start_time": "2022-10-02T09:42:12.173734Z"
    }
   },
   "outputs": [
    {
     "name": "stdout",
     "output_type": "stream",
     "text": [
      "Net(\n",
      "  (conv1): Conv2d(1, 6, kernel_size=(5, 5), stride=(1, 1))\n",
      "  (conv2): Conv2d(6, 16, kernel_size=(5, 5), stride=(1, 1))\n",
      "  (fc1): Linear(in_features=400, out_features=120, bias=True)\n",
      "  (fc2): Linear(in_features=120, out_features=84, bias=True)\n",
      "  (fc3): Linear(in_features=84, out_features=10, bias=True)\n",
      ")\n"
     ]
    }
   ],
   "source": [
    "import torch\n",
    "import torch.nn as nn\n",
    "import torch.nn.functional as F\n",
    "\n",
    "class Net(nn.Module):\n",
    "    def __init__(self):\n",
    "        super(Net, self).__init__()\n",
    "        # 1 input , 6 output , 5x5卷积核\n",
    "        self.conv1 = nn.Conv2d(1, 6, 5)\n",
    "        self.conv2 = nn.Conv2d(6, 16, 5)\n",
    "        # 线性激活函数\n",
    "        self.fc1 = nn.Linear(16*5*5, 120)\n",
    "        self.fc2 = nn.Linear(120, 84)\n",
    "        self.fc3 = nn.Linear(84, 10)\n",
    "        \n",
    "    def forward(self, x):\n",
    "        # Max pooling (2,2) 池化层，选择最大\n",
    "        X = F.max_pool2d(F.relu(self.conv1(x)), (2, 2))\n",
    "        X = F.max_pool2d(F.relu(self.conv2(x)), 2)\n",
    "        X = x.view(-1, self.num_flat_features(x))\n",
    "        X = F.relu(self.fc1(x))\n",
    "        X = F.relu(self.fc2(x))\n",
    "        X = self.fc3(x)\n",
    "        return x\n",
    "    \n",
    "    def num_flat_features(self, x):\n",
    "        size = X.size()[1:]\n",
    "        num_features = 1\n",
    "        for s in size:\n",
    "            num_features *= s\n",
    "        return num_features\n",
    "    \n",
    "net = Net()\n",
    "print(net)"
   ]
  },
  {
   "cell_type": "code",
   "execution_count": 5,
   "id": "f7cccbbf",
   "metadata": {
    "ExecuteTime": {
     "end_time": "2022-10-02T09:53:21.325810Z",
     "start_time": "2022-10-02T09:53:21.322144Z"
    }
   },
   "outputs": [
    {
     "name": "stdout",
     "output_type": "stream",
     "text": [
      "10\n",
      "torch.Size([6, 1, 5, 5])\n"
     ]
    }
   ],
   "source": [
    "# net.parameters()返回可被学习的参数列表和值\n",
    "params = list(net.parameters())\n",
    "print(len(params))\n",
    "# print(params)\n",
    "print(params[0].size())  #第一层的权重"
   ]
  },
  {
   "cell_type": "code",
   "execution_count": null,
   "id": "6eef72fa",
   "metadata": {},
   "outputs": [],
   "source": [
    "input = torch.randn(1, 1, 32, 32)\n",
    "out = net(input)\n",
    "print(out)"
   ]
  },
  {
   "cell_type": "markdown",
   "id": "67ee7395",
   "metadata": {},
   "source": [
    "### 损失函数"
   ]
  },
  {
   "cell_type": "code",
   "execution_count": null,
   "id": "cd32b2e6",
   "metadata": {},
   "outputs": [],
   "source": [
    "output = net(input)\n",
    "target = torch.randn(10)\n",
    "target = target.view(1, -1)\n",
    "criterion = nn.MSELoss()       # 均方误差\n",
    "\n",
    "loss = criterion(output, target)\n",
    "print(loss)"
   ]
  },
  {
   "cell_type": "markdown",
   "id": "d82b775d",
   "metadata": {},
   "source": [
    "### 反向传播\n",
    "* 但是在调用前需要清除已存在的梯度，否则梯度将被累加到已存在的梯度"
   ]
  },
  {
   "cell_type": "code",
   "execution_count": null,
   "id": "f4a8a1fd",
   "metadata": {},
   "outputs": [],
   "source": [
    "# 清除梯度\n",
    "net.zero_grad()\n",
    "\n",
    "print(net.conv1.bias.grad)\n",
    "# 反向传播的误差\n",
    "loss.backward()\n",
    "print(net.conv1.bias.grad)"
   ]
  },
  {
   "cell_type": "markdown",
   "id": "06d62c6c",
   "metadata": {},
   "source": [
    "### 更新权重"
   ]
  },
  {
   "cell_type": "code",
   "execution_count": null,
   "id": "04e80457",
   "metadata": {},
   "outputs": [],
   "source": [
    "learning_rate = 0.01\n",
    "for f in net.parameters():\n",
    "    f.data.sub_(f.grad.data * learning_ratea)"
   ]
  },
  {
   "cell_type": "markdown",
   "id": "c08b584d",
   "metadata": {},
   "source": [
    "* 但是当使用神经网络是想要使用各种不同的更新规则时，比如SGD、Nesterov-SGD、Adam、RMSPROP等，PyTorch中构建了一个包torch.optim实现了所有的这些规则"
   ]
  },
  {
   "cell_type": "code",
   "execution_count": null,
   "id": "5ab9ef2a",
   "metadata": {},
   "outputs": [],
   "source": [
    "import torch.optim as optim\n",
    "\n",
    "optimizer = optim.SGD(net.parameters(), lr=0.01)\n",
    "\n",
    "optimizer.zero_gradr()\n",
    "loss = criterion(output, target)\n",
    "loss.backward()\n",
    "optimizer.step()"
   ]
  }
 ],
 "metadata": {
  "kernelspec": {
   "display_name": "Python 3",
   "language": "python",
   "name": "python3"
  },
  "language_info": {
   "codemirror_mode": {
    "name": "ipython",
    "version": 3
   },
   "file_extension": ".py",
   "mimetype": "text/x-python",
   "name": "python",
   "nbconvert_exporter": "python",
   "pygments_lexer": "ipython3",
   "version": "3.8.5"
  },
  "toc": {
   "base_numbering": 1,
   "nav_menu": {},
   "number_sections": true,
   "sideBar": true,
   "skip_h1_title": false,
   "title_cell": "Table of Contents",
   "title_sidebar": "Contents",
   "toc_cell": false,
   "toc_position": {
    "height": "1347.52px",
    "left": "130px",
    "top": "144.988px",
    "width": "199px"
   },
   "toc_section_display": true,
   "toc_window_display": true
  },
  "varInspector": {
   "cols": {
    "lenName": 16,
    "lenType": 16,
    "lenVar": 40
   },
   "kernels_config": {
    "python": {
     "delete_cmd_postfix": "",
     "delete_cmd_prefix": "del ",
     "library": "var_list.py",
     "varRefreshCmd": "print(var_dic_list())"
    },
    "r": {
     "delete_cmd_postfix": ") ",
     "delete_cmd_prefix": "rm(",
     "library": "var_list.r",
     "varRefreshCmd": "cat(var_dic_list()) "
    }
   },
   "types_to_exclude": [
    "module",
    "function",
    "builtin_function_or_method",
    "instance",
    "_Feature"
   ],
   "window_display": false
  }
 },
 "nbformat": 4,
 "nbformat_minor": 5
}
