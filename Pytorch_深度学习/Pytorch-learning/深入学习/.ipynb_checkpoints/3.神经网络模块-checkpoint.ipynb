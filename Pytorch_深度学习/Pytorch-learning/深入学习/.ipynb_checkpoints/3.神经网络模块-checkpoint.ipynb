{
 "cells": [
  {
   "cell_type": "markdown",
   "id": "5a945c5f",
   "metadata": {},
   "source": [
    "### torch.nn\n",
    "* 神经网络模块"
   ]
  },
  {
   "cell_type": "code",
   "execution_count": 7,
   "id": "b54c2397",
   "metadata": {
    "ExecuteTime": {
     "end_time": "2022-10-07T07:14:59.151795Z",
     "start_time": "2022-10-07T07:14:59.149093Z"
    }
   },
   "outputs": [],
   "source": [
    "import torch\n",
    "import torch.nn as nn\n",
    "import torch.nn.functional as F"
   ]
  },
  {
   "cell_type": "markdown",
   "id": "3748f6e5",
   "metadata": {},
   "source": [
    "#### add_module"
   ]
  },
  {
   "cell_type": "code",
   "execution_count": 8,
   "id": "2f2cb4a6",
   "metadata": {
    "ExecuteTime": {
     "end_time": "2022-10-07T07:15:01.329602Z",
     "start_time": "2022-10-07T07:15:01.308862Z"
    }
   },
   "outputs": [
    {
     "name": "stdout",
     "output_type": "stream",
     "text": [
      "model:  Model(\n",
      "  (conv1): Conv2d(10, 20, kernel_size=(4, 4), stride=(1, 1))\n",
      "  (conv2): Conv2d(10, 20, kernel_size=(4, 4), stride=(1, 1))\n",
      "  (conv3): Conv3d(1, 10, kernel_size=(4, 4, 4), stride=(1, 1, 1))\n",
      "  (conv4): Conv3d(1, 10, kernel_size=(4, 4, 4), stride=(1, 1, 1))\n",
      ")\n",
      "children_module: Conv2d(10, 20, kernel_size=(4, 4), stride=(1, 1))\n",
      "children_module: Conv2d(10, 20, kernel_size=(4, 4), stride=(1, 1))\n",
      "children_module: Conv3d(1, 10, kernel_size=(4, 4, 4), stride=(1, 1, 1))\n",
      "modules: Model(\n",
      "  (conv1): Conv2d(10, 20, kernel_size=(4, 4), stride=(1, 1))\n",
      "  (conv2): Conv2d(10, 20, kernel_size=(4, 4), stride=(1, 1))\n",
      "  (conv3): Conv3d(1, 10, kernel_size=(4, 4, 4), stride=(1, 1, 1))\n",
      "  (conv4): Conv3d(1, 10, kernel_size=(4, 4, 4), stride=(1, 1, 1))\n",
      ")\n",
      "modules: Conv2d(10, 20, kernel_size=(4, 4), stride=(1, 1))\n",
      "modules: Conv2d(10, 20, kernel_size=(4, 4), stride=(1, 1))\n",
      "modules: Conv3d(1, 10, kernel_size=(4, 4, 4), stride=(1, 1, 1))\n",
      "conv3 module:  Conv3d(1, 10, kernel_size=(4, 4, 4), stride=(1, 1, 1))\n"
     ]
    }
   ],
   "source": [
    "# torch.nn.Module 所有网络的基类，创建模型要继承这个类\n",
    "\n",
    "# add_module(name, module)\n",
    "class Model(nn.Module):\n",
    "    def __init__(self):\n",
    "        super(Model, self).__init__()\n",
    "        self.add_module(\"conv1\", nn.Conv2d(10, 20, 4))\n",
    "        self.add_module(\"conv2\", nn.Conv2d(10, 20, 4))\n",
    "        submodule = nn.Conv3d(1, 10, 4)\n",
    "        self.add_module(\"conv3\", submodule)\n",
    "        self.add_module(\"conv4\", submodule)\n",
    "model = Model()\n",
    "print(\"model: \" ,model)\n",
    "\n",
    "\n",
    "# children()   返回模型的子模块,重复的只返回一次\n",
    "for sub_module in model.children():\n",
    "    print(\"children_module:\", sub_module)\n",
    "\n",
    "# modules()   返回一个完整的model，然后再返回模块，重复的只返回一次\n",
    "for module in model.modules():\n",
    "    print(\"modules:\", module)\n",
    "    \n",
    "# named_children()  按照网络名查找层\n",
    "for name, module in model.named_children():\n",
    "    if name in [\"conv3\"]:\n",
    "        print(\"conv3 module: \", module)"
   ]
  },
  {
   "cell_type": "markdown",
   "id": "8cf3d221",
   "metadata": {},
   "source": [
    "#### sequential容器"
   ]
  },
  {
   "cell_type": "code",
   "execution_count": null,
   "id": "9fa0bb4e",
   "metadata": {
    "ExecuteTime": {
     "end_time": "2022-10-07T07:15:05.228400Z",
     "start_time": "2022-10-07T07:15:05.185110Z"
    }
   },
   "outputs": [],
   "source": [
    "# 简单的序惯模型，sequential类\n",
    "model = nn.Sequential(\n",
    "                  nn.Conv2d(1,20,5),\n",
    "                  nn.ReLU(),\n",
    "                  nn.Conv2d(20,64,5),\n",
    "                  nn.ReLU()\n",
    "                )\n",
    "\n",
    "model = nn.Sequential(OrderedDict([\n",
    "                  ('conv1', nn.Conv2d(1,20,5)),\n",
    "                  ('relu1', nn.ReLU()),\n",
    "                  ('conv2', nn.Conv2d(20,64,5)),\n",
    "                  ('relu2', nn.ReLU())\n",
    "                ]))\n",
    "\n",
    "model=nn.Sequential()\n",
    "model.add_module(\"conv1\",nn. Conv2d(3, 16, kernel_size=(3, 3), stride=(1, 1), padding=(1, 1)))\n",
    "model.add_module(\"bn1\",nn.BatchNorm2d(16))\n",
    "model.add_module(\"relu1\",nn.ReLU(inplace=True))\n",
    "model.add_module(\"maxpool\",nn.MaxPool2d(2, 2))\n",
    "\n",
    "# 也可以封装一个复杂层\n",
    "# nn.Sequential() 可以允许将整个容器视为单个模块（即相当于把多个模块封装成一个模块），\n",
    "# forward()方法接收输入之后，nn.Sequential()按照内部模块的顺序自动依次计算并输出结果。\n",
    "class net(nn.Module):\n",
    "    def __init__(self, in_channel, out_channel):\n",
    "        super(net, self).__init__()\n",
    "        self.layer1 = nn.Sequential(nn.Conv2d(in_channel, in_channel / 4, kernel_size=1),\n",
    "                                    nn.BatchNorm2d(in_channel / 4),\n",
    "                                    nn.ReLU())\n",
    "        self.layer2 = nn.Sequential(nn.Conv2d(in_channel / 4, in_channel / 4),\n",
    "                                    nn.BatchNorm2d(in_channel / 4),\n",
    "                                    nn.ReLU())\n",
    "        self.layer3 = nn.Sequential(nn.Conv2d(in_channel / 4, out_channel, kernel_size=1),\n",
    "                                    nn.BatchNorm2d(out_channel),\n",
    "                                    nn.ReLU())\n",
    "        \n",
    "    def forward(self, x):\n",
    "        x = self.layer1(x)\n",
    "        x = self.layer2(x)\n",
    "        x = self.layer3(x)"
   ]
  },
  {
   "cell_type": "markdown",
   "id": "42ad32e2",
   "metadata": {},
   "source": [
    "#### 卷积层\n",
    "* self.conv1 = nn.Conv2d(1, 16, kernel_size=3, stride=2, padding=1)\n",
    "* in_channels(int) – 输入信号的通道\n",
    "* out_channels(int) – 卷积产生的通道\n",
    "* kerner_size(int or tuple) - 卷积核的尺寸\n",
    "* stride(int or tuple, optional) - 卷积步长\n",
    "* padding (int or tuple, optional)- 输入的每一条边补充0的层数\n",
    "* dilation(int or tuple, `optional``) – 卷积核元素之间的间距\n",
    "* groups(int, optional) – 从输入通道到输出通道的阻塞连接数\n",
    "* bias(bool, optional) - 如果bias=True，添加偏置\n",
    "*\n",
    "* 解释：\n",
    "* Conv1d  一维卷积层  Conv2d  二维卷积层\n",
    "* group=1，输出是所有的输入的卷积；group=2，此时相当于有并排的两个卷积层，\n",
    "* 每个卷积层计算输入通道的一半，并且产生的输出是输出通道的一半，随后将这两个输出连接起来。"
   ]
  },
  {
   "cell_type": "markdown",
   "id": "87879f17",
   "metadata": {},
   "source": [
    "#### 池化层\n",
    "* torch.nn.MaxPool1d(kernel_size, stride=None, padding=0, dilation=1, return_indices=False, ceil_mode=False)\n",
    "* kernel_size(int or tuple) - max pooling的窗口大小\n",
    "* stride(int or tuple, optional) - max pooling的窗口移动的步长。默认值是kernel_size\n",
    "* padding(int or tuple, optional) - 输入的每一条边补充0的层数\n",
    "* dilation(int or tuple, optional) – 一个控制窗口中元素步幅的参数\n",
    "* return_indices - 如果等于True，会返回输出最大值的序号，对于上采样操作会有帮助\n",
    "* ceil_mode - 如果等于True，计算输出信号大小的时候，会使用向上取整，代替默认的向下取整的操作"
   ]
  },
  {
   "cell_type": "markdown",
   "id": "87e4f1ce",
   "metadata": {},
   "source": [
    "#### Linear layers\n",
    "* class torch.nn.Linear(in_features, out_features, bias=True)\n",
    "* 需要注意在二维图像处理的任务中，全连接层的输入与输出一般都设置为二维张量，形状通常为[batch_size, size]\n",
    "* in_features: 指的是输入矩阵的列数，即输入二维张量形状[batch_size, input_size]中的input_size，\n",
    "代表每个输入样本x的特征数，也是输入层神经元的个数\n",
    "* out_features: 指的是输出矩阵的列数，即输出二维张量形状 [batch_size，output_size] 中的output_size，代表每个输出样本y的特征数，也是输出层神经元的个数（本层）\n",
    "* bias: 如果为True，则网络的输出需要再加上一个偏置向量，维度为 output_size\n",
    "* 从输入输出的张量的shape角度来理解，相当于一个输入为[batch_size, in_features]的张量变换成了[batch_size, out_features]的输出张量。"
   ]
  },
  {
   "cell_type": "code",
   "execution_count": 4,
   "id": "4bcffc17",
   "metadata": {
    "ExecuteTime": {
     "end_time": "2022-10-07T03:06:33.897564Z",
     "start_time": "2022-10-07T03:06:33.891480Z"
    }
   },
   "outputs": [
    {
     "name": "stdout",
     "output_type": "stream",
     "text": [
      "input.shape: torch.Size([1, 12288])\n",
      "connect_layer.weight.shape:  torch.Size([1, 12288])\n",
      "output.shape: torch.Size([1, 1])\n"
     ]
    }
   ],
   "source": [
    "import torch as t\n",
    "from torch import nn\n",
    "# 需要注意在二维图像处理的任务中，全连接层的输入与输出一般都设置为二维张量，形状通常为[batch_size, size]，\n",
    "# 不同于卷积层要求输入输出是四维张量\n",
    "\n",
    "# in_features由输入张量的形状决定,也就是上一层，out_features则决定了输出张量的形状，也就是本层\n",
    "connected_layer = nn.Linear(in_features = 64*64*3, out_features = 1)\n",
    "\n",
    "# 假定输入的图像形状为[64,64,3]\n",
    "input = t.randn(1,64,64,3)\n",
    "\n",
    "# 将四维张量转换为二维张量之后，才能作为全连接层的输入\n",
    "input = input.view(1,64*64*3)\n",
    "print(\"input.shape:\", input.shape)\n",
    "output = connected_layer(input) # 调用全连接层\n",
    "print(\"connect_layer.weight.shape: \", connected_layer.weight.shape)  # 行代表单元数，列代表特征数\n",
    "print(\"output.shape:\", output.shape)"
   ]
  },
  {
   "cell_type": "code",
   "execution_count": 1,
   "id": "850d79cf",
   "metadata": {
    "ExecuteTime": {
     "end_time": "2022-10-07T02:18:10.780779Z",
     "start_time": "2022-10-07T02:18:10.468994Z"
    }
   },
   "outputs": [
    {
     "name": "stdout",
     "output_type": "stream",
     "text": [
      "model.weight.shape:  torch.Size([30, 20])\n",
      "model.bias.shape:  torch.Size([30])\n",
      "output.shape:  torch.Size([128, 30])\n"
     ]
    }
   ],
   "source": [
    "import torch\n",
    " \n",
    "X = torch.randn(128, 20)          # 输入层20个，128batch\n",
    "model = torch.nn.Linear(20, 30)   # 20,本层30个单元\n",
    "Y = model(X)\n",
    "print('model.weight.shape: ', model.weight.shape)  # 【单元数，每个单元的特征数】\n",
    "print('model.bias.shape: ', model.bias.shape)      # 单元数\n",
    "print('output.shape: ', Y.shape)                   # 矩阵"
   ]
  },
  {
   "cell_type": "markdown",
   "id": "76397311",
   "metadata": {},
   "source": [
    "#### Dropout layers\n",
    "* class torch.nn.Dropout(p=0.5, inplace=False)\n",
    "* p - 将元素置0的概率。默认值：0.5\n",
    "* in-place - 若设置为True，会在原地执行操作。默认值：False"
   ]
  },
  {
   "cell_type": "markdown",
   "id": "aaa926f7",
   "metadata": {},
   "source": [
    "#### 损失函数\n",
    "* class torch.nn.L1Loss(size_average=True) x,y之间差的绝对值的平均值\n",
    "* torch.nn.MSELoss(size_average=True)      x,y之间均方误差"
   ]
  },
  {
   "cell_type": "markdown",
   "id": "8c005c12",
   "metadata": {},
   "source": [
    "#### Parameter\n",
    "* torch.nn.parameter.Parameter(data=None, requires_grad=True)\n",
    "* 1.nn.Parameter(requires_grad=False) 表明这个参数虽然绑定到模型里了，但是还是不可训练的\n",
    "* 主要作用是作为nn.Module中的可训练参数使用,即可训练参数张量自动加入到parameter()这个迭代器中去\n",
    "* \n",
    "* 2.可以把这个函数理解为类型转换函数，将一个不可训练的类型Tensor转换成可以训练的类型parameter并将这个parameter绑定到这个module里面\n",
    "* self.v = torch.nn.Parameter(torch.FloatTensor(hidden_size))\n",
    "* self.v变成了模型的一部分，成为了模型中根据训练可以改动的参数了。使用这个函数的目的也是想让某些变量在学习的过程中不断的修改其值以达到最优化"
   ]
  },
  {
   "cell_type": "code",
   "execution_count": null,
   "id": "c9f8e56d",
   "metadata": {
    "ExecuteTime": {
     "end_time": "2022-10-07T07:14:11.633850Z",
     "start_time": "2022-10-07T07:14:11.165963Z"
    }
   },
   "outputs": [],
   "source": [
    "# net.parameters()返回可被学习的参数列表和值\n",
    "params = list(net.parameters())\n",
    "print(len(params))\n",
    "# print(params)\n",
    "print(params[0].size())  #第一层的权重"
   ]
  },
  {
   "cell_type": "markdown",
   "id": "71a92807",
   "metadata": {},
   "source": [
    "### utils\n",
    "* 工具集"
   ]
  },
  {
   "cell_type": "code",
   "execution_count": 13,
   "id": "51166de5",
   "metadata": {
    "ExecuteTime": {
     "end_time": "2022-10-07T13:10:48.268279Z",
     "start_time": "2022-10-07T13:10:48.260766Z"
    }
   },
   "outputs": [],
   "source": [
    "from torch.utils.data import DataLoader\n",
    "from torch.utils.data import Dataset\n",
    "from torch.utils.data import TensorDataset"
   ]
  },
  {
   "cell_type": "markdown",
   "id": "1d3a4918",
   "metadata": {},
   "source": [
    "#### Dataset\n",
    "* 创建数据集,有__getitem__(self,index)函数来根据索引序号获取图片和标签, 有__len__(self)函数来获取数据集的长度.\n",
    "* 其他的数据集类必须是torch.utils.data.Dataset的子类,比如说torchvision.ImageFolder\n",
    "* 表示一个数据集的抽象类，所有的其它数据集都要以它为父类进行数据封装。Dataset的类函数__getitem__和__len__必须要被进行重写。"
   ]
  },
  {
   "cell_type": "markdown",
   "id": "635f70f4",
   "metadata": {},
   "source": [
    "#### TensorDataset\n",
    "* classtorch.utils.data.TensorDataset(data_tensor, target_tensor) \n",
    "* data_tensor : 需要被封装的数据样本\n",
    "* target_tensor : 需要被封装的数据标签\n",
    "* 继承父类torch.utils.data.Dataset，不需要对类TensorDataset的函数进行重写"
   ]
  },
  {
   "cell_type": "code",
   "execution_count": 14,
   "id": "26f78ff9",
   "metadata": {
    "ExecuteTime": {
     "end_time": "2022-10-07T13:10:51.266801Z",
     "start_time": "2022-10-07T13:10:51.237376Z"
    }
   },
   "outputs": [
    {
     "name": "stdout",
     "output_type": "stream",
     "text": [
      "tensor([1, 2, 3]) tensor(44)\n",
      "tensor([4, 5, 6]) tensor(55)\n",
      "tensor([7, 8, 9]) tensor(66)\n",
      "tensor([1, 2, 3]) tensor(44)\n",
      "tensor([4, 5, 6]) tensor(55)\n",
      "tensor([7, 8, 9]) tensor(66)\n",
      "tensor([1, 2, 3]) tensor(44)\n",
      "tensor([4, 5, 6]) tensor(55)\n",
      "tensor([7, 8, 9]) tensor(66)\n",
      "tensor([1, 2, 3]) tensor(44)\n",
      "tensor([4, 5, 6]) tensor(55)\n",
      "tensor([7, 8, 9]) tensor(66)\n"
     ]
    }
   ],
   "source": [
    "a = torch.tensor([[1, 2, 3], [4, 5, 6], [7, 8, 9], [1, 2, 3], [4, 5, 6], [7, 8, 9], [1, 2, 3], [4, 5, 6], [7, 8, 9], [1, 2, 3], [4, 5, 6], [7, 8, 9]])\n",
    "b = torch.tensor([44, 55, 66, 44, 55, 66, 44, 55, 66, 44, 55, 66])\n",
    "train_ids = TensorDataset(a, b) \n",
    "for x_train, y_label in train_ids:\n",
    "    print(x_train, y_label)"
   ]
  },
  {
   "cell_type": "markdown",
   "id": "331f81be",
   "metadata": {},
   "source": [
    "#### DataLoader"
   ]
  },
  {
   "cell_type": "code",
   "execution_count": null,
   "id": "1d49b785",
   "metadata": {},
   "outputs": [],
   "source": [
    "train_loader = DataLoader(dataset=train_ids, batch_size=4, shuffle=True) #shuffle：打乱数据顺序\n",
    "# 注意enumerate返回值有两个,一个是序号，一个是数据（包含训练数据和标签）,参数1是设置从1开始编号\n",
    "for i, data in enumerate(train_loader, 1):  \n",
    "    x_data, label = data\n",
    "    print(' batch:{0} x_data:{1}  label: {2}'.format(i, x_data, label))"
   ]
  },
  {
   "cell_type": "markdown",
   "id": "39b339fe",
   "metadata": {},
   "source": [
    "### torchvision\n",
    "* torchvision独立于PyTorch，需要专门安装\n",
    "* torchvision.models: 提供深度学习中各种经典的网络结构、预训练好的模型，如：Alex-Net、VGG、ResNet、Inception等。\n",
    "* torchvision.datasets：提供常用的数据集，设计上继承 torch.utils.data.Dataset，主要包括：MNIST、CIFAR10/100、ImageNet、COCO等。\n",
    "* torchvision.transforms：提供常用的数据预处理操作，主要包括对Tensor及PIL Image对象的操作。\n",
    "* torchvision.utils：工具类，如保存张量作为图像到磁盘，给一个小批量创建一个图像网格。"
   ]
  },
  {
   "cell_type": "markdown",
   "id": "1269d222",
   "metadata": {
    "ExecuteTime": {
     "end_time": "2022-10-07T07:50:20.735720Z",
     "start_time": "2022-10-07T07:50:20.733107Z"
    }
   },
   "source": [
    "#### 加载models\n",
    "* AlexNet\n",
    "* VGG\n",
    "* ResNet \n",
    "* SqueezeNet\n",
    "* DenseNet "
   ]
  },
  {
   "cell_type": "code",
   "execution_count": null,
   "id": "ace89afb",
   "metadata": {},
   "outputs": [],
   "source": [
    "import torchvision.models as models\n",
    "\n",
    "# 设为true表示加载预训练模型以及参数，默认不加载参数，只导入模型结构\n",
    "resnet18 = models.resnet18(pretrained = True) \n",
    "# alexnet = models.alexnet()\n",
    "\n",
    "# 打印状态参数、缓存字典\n",
    "pretrained_dict = vgg16.stste_dict()\n",
    "\n",
    "# 导入模型结构\n",
    "resnet18 = models.resnet18(pretrained=False)\n",
    "# 加载自己的预训练模型参数到resnet18\n",
    "resnet18.load_state_dict(torch.load('resnet18-1902.pth'))"
   ]
  },
  {
   "cell_type": "code",
   "execution_count": null,
   "id": "cb5f9218",
   "metadata": {},
   "outputs": [],
   "source": [
    "# 加载部分预训练模型\n",
    "# 注意新模型改变了的层需要和原模型对应层的名字不一样\n",
    "\n",
    "resnet152 = models.resnet152(pretrained = True)\n",
    "\n",
    "# 提取参数\n",
    "pretrained_dict = resnet152.state_dict()\n",
    "\n",
    "# 预训练模型也可以通过model_zoo下载参数\n",
    "pretrained_dict = model_zoo.load_url(model_url['resnet152'])\n",
    "\n",
    "# 将pretrained_dict里面不属于model_dict的键剔除掉\n",
    "# item返回每个字典数据\n",
    "pretrained_dict = {k:v for k,v in pretrained_dict.items() if k in model_dict}\n",
    "\n",
    "# 更新\n",
    "model_dict.update(pretrained_dict)\n",
    "\n",
    "# 加载真正需要的state_dict\n",
    "resnet152.load_state_dict(model_dict)\n"
   ]
  },
  {
   "cell_type": "code",
   "execution_count": null,
   "id": "85b4a895",
   "metadata": {},
   "outputs": [],
   "source": [
    "# 调整模型\n",
    "# 修改通道数 第一层和最后一层\n",
    "resnet.conv1 = nn.Conv2d(4, 64, 7, 2, 3)\n",
    "resnet.fc    = nn.Linear(2048, 21)"
   ]
  },
  {
   "cell_type": "code",
   "execution_count": null,
   "id": "4d413950",
   "metadata": {},
   "outputs": [],
   "source": [
    "# 保存和加载模型\n",
    "torch.save(model_object, 'resnet.pth')\n",
    "model = torch.load('resnet.pth')\n",
    "\n",
    "# 分别加载网络结构和参数\n",
    "# 将my_resnet模型字典存储为my_resnet.pth\n",
    "torch.save(my_resnet.state_dict(), \"my_resnet.pth\")\n",
    "# 加载resnet，模型存放在my_resnet.pth\n",
    "my_resnet.load_state_dict(torch.load(\"my_resnet.pth\"))\n"
   ]
  },
  {
   "cell_type": "markdown",
   "id": "c1b42d01",
   "metadata": {},
   "source": [
    "#### 加载数据集\n",
    "* torchvision.datasets是从torch.utils.data.Dataset的子类，可以使用torch.utils.data.DataLoader进行多线程处理"
   ]
  },
  {
   "cell_type": "code",
   "execution_count": null,
   "id": "8c989d9e",
   "metadata": {},
   "outputs": [],
   "source": [
    "from torchvision import datasets\n",
    "\n",
    "# 加载MNIST\n",
    "dataset = datasets.MNIST('data/', download=True, train=False, transform=None)\n",
    "\n",
    "# ImageFolder实现数据导入\n",
    "ImageFolder(root, transform=None, target_transform=None, loader=default_loade)\n",
    "# root : 在指定的root路径下面寻找图片。\n",
    "# transform: 接收PIL图像的函数/转换并返回已转换的版本。 可以直接使用上面的Compose方法组合需要的变换。\n",
    "# target_transform :对label进行变换。\n",
    "# loader: 指定加载图片的函数，默认操作是读取PIL image对象。\n",
    "# 这个方法返回的是list，可以使用data.DataLoader转成Tensor数据。"
   ]
  },
  {
   "cell_type": "markdown",
   "id": "c4a8a941",
   "metadata": {
    "ExecuteTime": {
     "end_time": "2022-10-07T09:00:23.906214Z",
     "start_time": "2022-10-07T09:00:23.903646Z"
    }
   },
   "source": [
    "#### transforms数据预处理"
   ]
  },
  {
   "cell_type": "code",
   "execution_count": null,
   "id": "343b81de",
   "metadata": {},
   "outputs": [],
   "source": [
    "data_transforms = {\n",
    "    'train': transforms.Compose([\n",
    "        transforms.ToPILImage(),\n",
    "        transforms.Resize(256),\n",
    "        transforms.RandomResizedCrop(224, scale=(0.5, 1.0)),\n",
    "        transforms.RandomHorizontalFlip(),\n",
    "        transforms.ToTensor(),\n",
    "        transforms.Normalize([0.485, 0.456, 0.406], [0.229, 0.224, 0.225])\n",
    "    ]),\n",
    "    \"val\":transforms.Compose([\n",
    "        transforms.Resize(256),\n",
    "        transforms.CenterCrop(224),\n",
    "        transforms.ToTensor(),\n",
    "        transforms.Normalize([0.485, 0.456, 0.406], [0.229, 0.224, 0.225])\n",
    "    ]),\n",
    "}\n",
    "\n",
    "# transforms.Compose函数就是将transforms组合在一起\n",
    "# transforms.ToPILImage()是转换数据格式，把数据转换为tensfroms格式。\n",
    "# 只有转换为tensfroms格式才能进行后面的处理。\n",
    "# transforms.Resize(256)是按照比例把图像最小的一个边长放缩到256，另一边按照相同比例放缩。\n",
    "# transforms.RandomResizedCrop(224,scale=(0.5,1.0))是把图像按照中心随机切割成224正方形大小的图片。\n",
    "# transforms.ToTensor() 转换为tensor格式，这个格式可以直接输入进神经网络了。\n",
    "# transforms.Normalize(mean=[0.485,0.456,0.406],std=[0.229, 0.224, 0.225])对像素值进行归一化处理。\n"
   ]
  },
  {
   "cell_type": "code",
   "execution_count": null,
   "id": "89464e13",
   "metadata": {},
   "outputs": [],
   "source": [
    "# 将多张图片组合成一张图片网格 torchvision.utils.make_grid\n",
    "torchvision.utils.make_grid(tensor, nrow=8, padding=2, normalize=False, \n",
    "                            range=None, scale_each=False, pad_value=0)\n",
    "\n",
    "# tensor (Tensor or list) – 4D小批量形状Tensor张量（B x C x H x W）或所有大小相同的图像列表。\n",
    "# nrows (int, optional) – 网格中的行数。最终的网格大小（B / nrow，nrow）。默认值是8。\n",
    "# normalize (bool, optional) – 如果TRUE，将图像移到范围（0, 1）中，减去最小值并除以最大像素值。\n",
    "# range (tuple, optional) – 元组（min，max），其中min和max是数字，然后使用这些数字对图像进行标准化。\n",
    "# 默认情况下，min和max是从张量计算的。\n",
    "# scale_each (bool, optional) – 如果TRUE，则在批处理图像中分别缩放每个图像，而不是在所有图像上\n",
    "# （最小、最大）缩放图像。\n",
    "# pad_value (float, optional) – 填充像素的值。"
   ]
  },
  {
   "cell_type": "markdown",
   "id": "267c016c",
   "metadata": {},
   "source": [
    "### 示例，python实现神经网络"
   ]
  },
  {
   "cell_type": "code",
   "execution_count": 6,
   "id": "c70bad60",
   "metadata": {
    "ExecuteTime": {
     "end_time": "2022-10-05T00:55:55.982833Z",
     "start_time": "2022-10-05T00:55:36.074302Z"
    }
   },
   "outputs": [],
   "source": [
    "# 下载数据集\n",
    "from pathlib import Path\n",
    "import requests\n",
    "\n",
    "DATA_PATH = Path('data')\n",
    "PATH = DATA_PATH / \"mnist\"\n",
    "\n",
    "PATH.mkdir(parents=True, exist_ok=True)\n",
    "URL = \"https://github.91chi.fun/https://github.com/pytorch/tutorials/raw/master/_static/\"\n",
    "FILENAME = \"mnist.pkl.gz\"\n",
    "\n",
    "if not (PATH / FILENAME).exists():\n",
    "    content = requests.get(URL + FILENAME).content\n",
    "    (PATH / FILENAME).open(\"wb\").write(content)"
   ]
  },
  {
   "cell_type": "code",
   "execution_count": 25,
   "id": "64b0408f",
   "metadata": {
    "ExecuteTime": {
     "end_time": "2022-10-05T02:04:02.531989Z",
     "start_time": "2022-10-05T02:04:02.527977Z"
    }
   },
   "outputs": [
    {
     "name": "stdout",
     "output_type": "stream",
     "text": [
      "data/mnist/MNIST_data/train-images.idx3-ubyte\n"
     ]
    }
   ],
   "source": [
    "import os\n",
    "DATA_PATH = Path('data')\n",
    "PATH = DATA_PATH / \"mnist\"\n",
    "FILENAME = \"MNIST_data\"\n",
    "train_images = \"data/mnist/MNIST_data/train-images.idx3-ubyte\"\n",
    "print(train_images)"
   ]
  },
  {
   "cell_type": "markdown",
   "id": "5d7515de",
   "metadata": {},
   "source": [
    "#### 解析MNIST数据集"
   ]
  },
  {
   "cell_type": "code",
   "execution_count": 2,
   "id": "ab3a7f9e",
   "metadata": {
    "ExecuteTime": {
     "end_time": "2022-10-05T06:28:43.116946Z",
     "start_time": "2022-10-05T06:28:36.410007Z"
    }
   },
   "outputs": [
    {
     "name": "stdout",
     "output_type": "stream",
     "text": [
      "魔数:2051, 图片数量: 60000张, 图片大小: 28*28\n",
      "16\n",
      ">784B 16 784\n",
      "已解析 10000张\n",
      "7839232\n",
      "已解析 20000张\n",
      "15679232\n",
      "已解析 30000张\n",
      "23519232\n",
      "已解析 40000张\n",
      "31359232\n",
      "已解析 50000张\n",
      "39199232\n",
      "已解析 60000张\n",
      "47039232\n",
      "魔数:2049, 图片数量: 60000张\n",
      "已解析 10000张\n",
      "已解析 20000张\n",
      "已解析 30000张\n",
      "已解析 40000张\n",
      "已解析 50000张\n",
      "已解析 60000张\n",
      "魔数:2051, 图片数量: 10000张, 图片大小: 28*28\n",
      "16\n",
      ">784B 16 784\n",
      "已解析 10000张\n",
      "7839232\n",
      "魔数:2049, 图片数量: 10000张\n",
      "已解析 10000张\n",
      "5.0\n"
     ]
    },
    {
     "data": {
      "image/png": "[encoded data removed]",
      "text/plain": [
       "<Figure size 432x288 with 1 Axes>"
      ]
     },
     "metadata": {
      "needs_background": "light"
     },
     "output_type": "display_data"
    },
    {
     "name": "stdout",
     "output_type": "stream",
     "text": [
      "0.0\n"
     ]
    },
    {
     "data": {
      "image/png": "[encoded data removed]",
      "text/plain": [
       "<Figure size 432x288 with 1 Axes>"
      ]
     },
     "metadata": {
      "needs_background": "light"
     },
     "output_type": "display_data"
    },
    {
     "name": "stdout",
     "output_type": "stream",
     "text": [
      "4.0\n"
     ]
    },
    {
     "data": {
      "image/png": "[encoded data removed]",
      "text/plain": [
       "<Figure size 432x288 with 1 Axes>"
      ]
     },
     "metadata": {
      "needs_background": "light"
     },
     "output_type": "display_data"
    },
    {
     "name": "stdout",
     "output_type": "stream",
     "text": [
      "1.0\n"
     ]
    },
    {
     "data": {
      "image/png": "[encoded data removed]",
      "text/plain": [
       "<Figure size 432x288 with 1 Axes>"
      ]
     },
     "metadata": {
      "needs_background": "light"
     },
     "output_type": "display_data"
    },
    {
     "name": "stdout",
     "output_type": "stream",
     "text": [
      "9.0\n"
     ]
    },
    {
     "data": {
      "image/png": "[encoded data removed]",
      "text/plain": [
       "<Figure size 432x288 with 1 Axes>"
      ]
     },
     "metadata": {
      "needs_background": "light"
     },
     "output_type": "display_data"
    },
    {
     "name": "stdout",
     "output_type": "stream",
     "text": [
      "2.0\n"
     ]
    },
    {
     "data": {
      "image/png": "[encoded data removed]",
      "text/plain": [
       "<Figure size 432x288 with 1 Axes>"
      ]
     },
     "metadata": {
      "needs_background": "light"
     },
     "output_type": "display_data"
    },
    {
     "name": "stdout",
     "output_type": "stream",
     "text": [
      "1.0\n"
     ]
    },
    {
     "data": {
      "image/png": "[encoded data removed]",
      "text/plain": [
       "<Figure size 432x288 with 1 Axes>"
      ]
     },
     "metadata": {
      "needs_background": "light"
     },
     "output_type": "display_data"
    },
    {
     "name": "stdout",
     "output_type": "stream",
     "text": [
      "3.0\n"
     ]
    },
    {
     "data": {
      "image/png": "[encoded data removed]",
      "text/plain": [
       "<Figure size 432x288 with 1 Axes>"
      ]
     },
     "metadata": {
      "needs_background": "light"
     },
     "output_type": "display_data"
    },
    {
     "name": "stdout",
     "output_type": "stream",
     "text": [
      "1.0\n"
     ]
    },
    {
     "data": {
      "image/png": "[encoded data removed]",
      "text/plain": [
       "<Figure size 432x288 with 1 Axes>"
      ]
     },
     "metadata": {
      "needs_background": "light"
     },
     "output_type": "display_data"
    },
    {
     "name": "stdout",
     "output_type": "stream",
     "text": [
      "4.0\n"
     ]
    },
    {
     "data": {
      "image/png": "[encoded data removed]",
      "text/plain": [
       "<Figure size 432x288 with 1 Axes>"
      ]
     },
     "metadata": {
      "needs_background": "light"
     },
     "output_type": "display_data"
    },
    {
     "name": "stdout",
     "output_type": "stream",
     "text": [
      "test_labels:  7.0\n"
     ]
    },
    {
     "data": {
      "image/png": "[encoded data removed]",
      "text/plain": [
       "<Figure size 432x288 with 1 Axes>"
      ]
     },
     "metadata": {
      "needs_background": "light"
     },
     "output_type": "display_data"
    },
    {
     "name": "stdout",
     "output_type": "stream",
     "text": [
      "test_labels:  2.0\n"
     ]
    },
    {
     "data": {
      "image/png": "[encoded data removed]",
      "text/plain": [
       "<Figure size 432x288 with 1 Axes>"
      ]
     },
     "metadata": {
      "needs_background": "light"
     },
     "output_type": "display_data"
    },
    {
     "name": "stdout",
     "output_type": "stream",
     "text": [
      "test_labels:  1.0\n"
     ]
    },
    {
     "data": {
      "image/png": "[encoded data removed]",
      "text/plain": [
       "<Figure size 432x288 with 1 Axes>"
      ]
     },
     "metadata": {
      "needs_background": "light"
     },
     "output_type": "display_data"
    },
    {
     "name": "stdout",
     "output_type": "stream",
     "text": [
      "test_labels:  0.0\n"
     ]
    },
    {
     "data": {
      "image/png": "[encoded data removed]",
      "text/plain": [
       "<Figure size 432x288 with 1 Axes>"
      ]
     },
     "metadata": {
      "needs_background": "light"
     },
     "output_type": "display_data"
    },
    {
     "name": "stdout",
     "output_type": "stream",
     "text": [
      "test_labels:  4.0\n"
     ]
    },
    {
     "data": {
      "image/png": "[encoded data removed]",
      "text/plain": [
       "<Figure size 432x288 with 1 Axes>"
      ]
     },
     "metadata": {
      "needs_background": "light"
     },
     "output_type": "display_data"
    },
    {
     "name": "stdout",
     "output_type": "stream",
     "text": [
      "test_labels:  1.0\n"
     ]
    },
    {
     "data": {
      "image/png": "[encoded data removed]",
      "text/plain": [
       "<Figure size 432x288 with 1 Axes>"
      ]
     },
     "metadata": {
      "needs_background": "light"
     },
     "output_type": "display_data"
    },
    {
     "name": "stdout",
     "output_type": "stream",
     "text": [
      "test_labels:  4.0\n"
     ]
    },
    {
     "data": {
      "image/png": "[encoded data removed]",
      "text/plain": [
       "<Figure size 432x288 with 1 Axes>"
      ]
     },
     "metadata": {
      "needs_background": "light"
     },
     "output_type": "display_data"
    },
    {
     "name": "stdout",
     "output_type": "stream",
     "text": [
      "test_labels:  9.0\n"
     ]
    },
    {
     "data": {
      "image/png": "[encoded data removed]",
      "text/plain": [
       "<Figure size 432x288 with 1 Axes>"
      ]
     },
     "metadata": {
      "needs_background": "light"
     },
     "output_type": "display_data"
    },
    {
     "name": "stdout",
     "output_type": "stream",
     "text": [
      "test_labels:  5.0\n"
     ]
    },
    {
     "data": {
      "image/png": "[encoded data removed]",
      "text/plain": [
       "<Figure size 432x288 with 1 Axes>"
      ]
     },
     "metadata": {
      "needs_background": "light"
     },
     "output_type": "display_data"
    },
    {
     "name": "stdout",
     "output_type": "stream",
     "text": [
      "test_labels:  9.0\n"
     ]
    },
    {
     "data": {
      "image/png": "[encoded data removed]",
      "text/plain": [
       "<Figure size 432x288 with 1 Axes>"
      ]
     },
     "metadata": {
      "needs_background": "light"
     },
     "output_type": "display_data"
    },
    {
     "name": "stdout",
     "output_type": "stream",
     "text": [
      "done\n"
     ]
    }
   ],
   "source": [
    "# 解压缩， 在线方法\n",
    "import pickle\n",
    "import gzip\n",
    "from pathlib import Path\n",
    "\n",
    "# DATA_PATH = Path('data')\n",
    "# PATH = DATA_PATH / \"mnist\"\n",
    "# FILENAME = \"mnist.pkl.gz\"\n",
    "\n",
    "# with gzip.open((PATH / FILENAME).as_posix(), \"rb\") as f:\n",
    "#     ((x_train, y_train),(x_valid, y_valid), _) = pickle.load(f, encoding=\"latin-1\")\n",
    "\n",
    "\n",
    "# python的open(), struct.unpack_from()函数操作\n",
    "# 1,打开二进制文件   data = Open(filename, \"rb\").read()\n",
    "# 2,数据解析        Magic,N,rows,cols = Struct.unpack_from(fmt_image,data,offset)\n",
    "# 3,数据解析 像素值  Im_data = Struct.unpack_from(fmt_image, data, offset)\n",
    "# 4,转换为Numpy数组 Im[i] = numpy.array(Im_data).reshape(28, 28)\n",
    "import numpy as np\n",
    "import struct\n",
    "import matplotlib.pyplot as plt\n",
    "\n",
    "DATA_PATH = Path('data')\n",
    "PATH = DATA_PATH / \"mnist\"\n",
    "FILENAME = \"MNIST_data\"\n",
    "\n",
    "# 训练集文件\n",
    "train_images_idx3_ubyte_file = 'data/mnist/MNIST_data/train-images-idx3-ubyte'\n",
    "# 训练集标签文件\n",
    "train_labels_idx1_ubyte_file = 'data/mnist/MNIST_data/train-labels-idx1-ubyte'\n",
    "\n",
    "# 测试集文件\n",
    "test_images_idx3_ubyte_file = 'data/mnist/MNIST_data/t10k-images-idx3-ubyte'\n",
    "# 测试集标签文件\n",
    "test_labels_idx1_ubyte_file = 'data/mnist/MNIST_data/t10k-labels-idx1-ubyte'\n",
    "\n",
    "\n",
    "def decode_idx3_ubyte(idx3_ubyte_file):\n",
    "    \"\"\"\n",
    "    解析idx3文件的通用函数\n",
    "    :param idx3_ubyte_file: idx3文件路径\n",
    "    :return: 数据集\n",
    "    \"\"\"\n",
    "    # 读取二进制数据\n",
    "    bin_data = open(idx3_ubyte_file, 'rb').read()\n",
    "\n",
    "    # 解析文件头信息，依次为魔数、图片数量、每张图片高、每张图片宽\n",
    "    offset = 0\n",
    "    fmt_header = '>iiii' #因为数据结构中前4行的数据类型都是32位整型，所以采用i格式，但我们需要读取前4行数据，所以需要4个i。我们后面会看到标签集中，只使用2个ii。\n",
    "    magic_number, num_images, num_rows, num_cols = struct.unpack_from(fmt_header, bin_data, offset)\n",
    "    print('魔数:%d, 图片数量: %d张, 图片大小: %d*%d' % (magic_number, num_images, num_rows, num_cols))\n",
    "\n",
    "    # 解析数据集\n",
    "    image_size = num_rows * num_cols\n",
    "    offset += struct.calcsize(fmt_header)  #获得数据在缓存中的指针位置，从前面介绍的数据结构可以看出，读取了前4行之后，指针位置（即偏移位置offset）指向0016。\n",
    "    print(offset)\n",
    "    fmt_image = '>' + str(image_size) + 'B'  #图像数据像素值的类型为unsigned char型，对应的format格式为B。这里还有加上图像大小784，是为了读取784个B格式数据，如果没有则只会读取一个值（即一副图像中的一个像素值）\n",
    "    print(fmt_image,offset,struct.calcsize(fmt_image))\n",
    "    images = np.empty((num_images, num_rows, num_cols))\n",
    "    #plt.figure()\n",
    "    for i in range(num_images):\n",
    "        if (i + 1) % 10000 == 0:\n",
    "            print('已解析 %d' % (i + 1) + '张')\n",
    "            print(offset)\n",
    "        images[i] = np.array(struct.unpack_from(fmt_image, bin_data, offset)).reshape((num_rows, num_cols))\n",
    "        #print(images[i])\n",
    "        offset += struct.calcsize(fmt_image)\n",
    "#        plt.imshow(images[i],'gray')\n",
    "#        plt.pause(0.00001)\n",
    "#        plt.show()\n",
    "    #plt.show()\n",
    "\n",
    "    return images\n",
    "\n",
    "\n",
    "def decode_idx1_ubyte(idx1_ubyte_file):\n",
    "    \"\"\"\n",
    "    解析idx1文件的通用函数\n",
    "    :param idx1_ubyte_file: idx1文件路径\n",
    "    :return: 数据集\n",
    "    \"\"\"\n",
    "    # 读取二进制数据\n",
    "    bin_data = open(idx1_ubyte_file, 'rb').read()\n",
    "\n",
    "    # 解析文件头信息，依次为魔数和标签数\n",
    "    offset = 0\n",
    "    fmt_header = '>ii'\n",
    "    magic_number, num_images = struct.unpack_from(fmt_header, bin_data, offset)\n",
    "    print('魔数:%d, 图片数量: %d张' % (magic_number, num_images))\n",
    "\n",
    "    # 解析数据集\n",
    "    offset += struct.calcsize(fmt_header)\n",
    "    fmt_image = '>B'\n",
    "    labels = np.empty(num_images)\n",
    "    for i in range(num_images):\n",
    "        if (i + 1) % 10000 == 0:\n",
    "            print ('已解析 %d' % (i + 1) + '张')\n",
    "        labels[i] = struct.unpack_from(fmt_image, bin_data, offset)[0]\n",
    "        offset += struct.calcsize(fmt_image)\n",
    "    return labels\n",
    "\n",
    "\n",
    "def load_train_images(idx_ubyte_file=train_images_idx3_ubyte_file):\n",
    "    \"\"\"\n",
    "    TRAINING SET IMAGE FILE (train-images-idx3-ubyte):\n",
    "    [offset] [type]          [value]          [description]\n",
    "    0000     32 bit integer  0x00000803(2051) magic number\n",
    "    0004     32 bit integer  60000            number of images\n",
    "    0008     32 bit integer  28               number of rows\n",
    "    0012     32 bit integer  28               number of columns\n",
    "    0016     unsigned byte   ??               pixel\n",
    "    0017     unsigned byte   ??               pixel\n",
    "    ........\n",
    "    xxxx     unsigned byte   ??               pixel\n",
    "    Pixels are organized row-wise. Pixel values are 0 to 255. 0 means background (white), 255 means foreground (black).\n",
    "\n",
    "    :param idx_ubyte_file: idx文件路径\n",
    "    :return: n*row*col维np.array对象，n为图片数量\n",
    "    \"\"\"\n",
    "    return decode_idx3_ubyte(idx_ubyte_file)\n",
    "\n",
    "\n",
    "def load_train_labels(idx_ubyte_file=train_labels_idx1_ubyte_file):\n",
    "    \"\"\"\n",
    "    TRAINING SET LABEL FILE (train-labels-idx1-ubyte):\n",
    "    [offset] [type]          [value]          [description]\n",
    "    0000     32 bit integer  0x00000801(2049) magic number (MSB first)\n",
    "    0004     32 bit integer  60000            number of items\n",
    "    0008     unsigned byte   ??               label\n",
    "    0009     unsigned byte   ??               label\n",
    "    ........\n",
    "    xxxx     unsigned byte   ??               label\n",
    "    The labels values are 0 to 9.\n",
    "\n",
    "    :param idx_ubyte_file: idx文件路径\n",
    "    :return: n*1维np.array对象，n为图片数量\n",
    "    \"\"\"\n",
    "    return decode_idx1_ubyte(idx_ubyte_file)\n",
    "\n",
    "\n",
    "def load_test_images(idx_ubyte_file=test_images_idx3_ubyte_file):\n",
    "    \"\"\"\n",
    "    TEST SET IMAGE FILE (t10k-images-idx3-ubyte):\n",
    "    [offset] [type]          [value]          [description]\n",
    "    0000     32 bit integer  0x00000803(2051) magic number\n",
    "    0004     32 bit integer  10000            number of images\n",
    "    0008     32 bit integer  28               number of rows\n",
    "    0012     32 bit integer  28               number of columns\n",
    "    0016     unsigned byte   ??               pixel\n",
    "    0017     unsigned byte   ??               pixel\n",
    "    ........\n",
    "    xxxx     unsigned byte   ??               pixel\n",
    "    Pixels are organized row-wise. Pixel values are 0 to 255. 0 means background (white), 255 means foreground (black).\n",
    "\n",
    "    :param idx_ubyte_file: idx文件路径\n",
    "    :return: n*row*col维np.array对象，n为图片数量\n",
    "    \"\"\"\n",
    "    return decode_idx3_ubyte(idx_ubyte_file)\n",
    "\n",
    "\n",
    "def load_test_labels(idx_ubyte_file=test_labels_idx1_ubyte_file):\n",
    "    \"\"\"\n",
    "    TEST SET LABEL FILE (t10k-labels-idx1-ubyte):\n",
    "    [offset] [type]          [value]          [description]\n",
    "    0000     32 bit integer  0x00000801(2049) magic number (MSB first)\n",
    "    0004     32 bit integer  10000            number of items\n",
    "    0008     unsigned byte   ??               label\n",
    "    0009     unsigned byte   ??               label\n",
    "    ........\n",
    "    xxxx     unsigned byte   ??               label\n",
    "    The labels values are 0 to 9.\n",
    "\n",
    "    :param idx_ubyte_file: idx文件路径\n",
    "    :return: n*1维np.array对象，n为图片数量\n",
    "    \"\"\"\n",
    "    return decode_idx1_ubyte(idx_ubyte_file)\n",
    "\n",
    "\n",
    "\n",
    "if __name__ == '__main__':\n",
    "    train_images = load_train_images()\n",
    "\n",
    "    train_labels = load_train_labels()\n",
    "    test_images  = load_test_images()\n",
    "    test_labels  = load_test_labels()\n",
    "\n",
    "    # 查看前十个数据及其标签以读取是否正确\n",
    "    for i in range(10):\n",
    "        print(train_labels[i])\n",
    "        plt.imshow(train_images[i], cmap='gray')\n",
    "        plt.pause(0.000001)\n",
    "        plt.show()\n",
    "        \n",
    "    for i in range(10):\n",
    "        print(\"test_labels: \",test_labels[i])\n",
    "        plt.imshow(test_images[i], cmap='gray')\n",
    "        plt.pause(0.000001)\n",
    "        plt.show()\n",
    "        \n",
    "    print('done')\n"
   ]
  },
  {
   "cell_type": "code",
   "execution_count": 3,
   "id": "d9104741",
   "metadata": {
    "ExecuteTime": {
     "end_time": "2022-10-05T06:28:46.384683Z",
     "start_time": "2022-10-05T06:28:46.171499Z"
    }
   },
   "outputs": [
    {
     "data": {
      "image/png": "[encoded data removed]",
      "text/plain": [
       "<Figure size 432x288 with 1 Axes>"
      ]
     },
     "metadata": {
      "needs_background": "light"
     },
     "output_type": "display_data"
    },
    {
     "name": "stdout",
     "output_type": "stream",
     "text": [
      "(60000, 28, 28)\n",
      "(10000, 28, 28)\n",
      "(50000, 28, 28)\n",
      "(10000, 28, 28)\n"
     ]
    },
    {
     "data": {
      "image/png": "[encoded data removed]",
      "text/plain": [
       "<Figure size 432x288 with 1 Axes>"
      ]
     },
     "metadata": {
      "needs_background": "light"
     },
     "output_type": "display_data"
    }
   ],
   "source": [
    "# 切分数据集，添加验证集\n",
    "from matplotlib import pyplot\n",
    "import numpy as np\n",
    "\n",
    "pyplot.imshow(train_images[0].reshape((28,28)), cmap=\"gray\")\n",
    "plt.show()\n",
    "\n",
    "print(train_images.shape)\n",
    "print(test_images.shape)\n",
    "\n",
    "x_train = np.ndarray((50000, 28, 28))\n",
    "y_train = np.ndarray((50000, 28, 28))\n",
    "x_valid = np.ndarray((10000, 28, 28))\n",
    "y_valid = np.ndarray((10000, 28, 28))\n",
    "print(x_train.shape)\n",
    "x_train = train_images[:50000]\n",
    "y_train = train_labels[:50000]\n",
    "x_valid = train_images[50000:]\n",
    "y_valid = train_labels[50000:]\n",
    "print(x_valid.shape)\n",
    "# print(x_train[0])\n",
    "pyplot.imshow(x_train[1].reshape((28,28)), cmap=\"gray\")\n",
    "plt.show()"
   ]
  },
  {
   "cell_type": "markdown",
   "id": "699617c9",
   "metadata": {},
   "source": [
    "#### numpy数据转换成torch.tensor"
   ]
  },
  {
   "cell_type": "code",
   "execution_count": 7,
   "id": "4a7c1347",
   "metadata": {
    "ExecuteTime": {
     "end_time": "2022-10-05T06:31:28.180314Z",
     "start_time": "2022-10-05T06:31:28.082966Z"
    }
   },
   "outputs": [
    {
     "name": "stdout",
     "output_type": "stream",
     "text": [
      "torch.Size([50000, 28, 28])\n",
      "tensor(0., dtype=torch.float64) tensor(9., dtype=torch.float64)\n"
     ]
    },
    {
     "name": "stderr",
     "output_type": "stream",
     "text": [
      "<ipython-input-7-1d1b57b9c778>:7: UserWarning: To copy construct from a tensor, it is recommended to use sourceTensor.clone().detach() or sourceTensor.clone().detach().requires_grad_(True), rather than torch.tensor(sourceTensor).\n",
      "  x_train, y_train, x_valid, y_valid = map (\n"
     ]
    }
   ],
   "source": [
    "# 将numpy数据转换为tensor\n",
    "\n",
    "import torch\n",
    "\n",
    "# map函数，map(function, literable),对第二个参数中每个元素调用function，返回迭代器\n",
    "# 把numpy数组转换成torch.tensor\n",
    "x_train, y_train, x_valid, y_valid = map (\n",
    "    torch.tensor, (x_train, y_train, x_valid, y_valid)\n",
    ")\n",
    "\n",
    "# n, c = x_train.shape\n",
    "# x_train, x_train.shape, y_train.min(), y_train.max()\n",
    "# print(x_train, y_train)\n",
    "print(x_train.shape)\n",
    "print(y_train.min(), y_train.max())"
   ]
  },
  {
   "cell_type": "markdown",
   "id": "507b7b43",
   "metadata": {},
   "source": [
    "#### 初始化权重、构建激活函数"
   ]
  },
  {
   "cell_type": "code",
   "execution_count": null,
   "id": "f004d51a",
   "metadata": {
    "ExecuteTime": {
     "end_time": "2022-10-05T06:44:54.174760Z",
     "start_time": "2022-10-05T06:44:54.129400Z"
    }
   },
   "outputs": [],
   "source": [
    "# 初始化权重\n",
    "import math\n",
    "weights = torch.randn(784, 10) / math.sqrt(784)\n",
    "weights.requires_grad_()\n",
    "bias = torch.zeros(10, requires_grad=True)\n",
    "\n",
    "# 创建激活函数\n",
    "def log_softmax(x):\n",
    "    return x - x.exp().sum(-1).log().unsqueeze(-1)\n",
    "\n",
    "def model(xb):\n",
    "    return log_softmax(xb @ weights + bias)  # 点积运算\n",
    "\n",
    "bs = 64     # batch size\n",
    "\n",
    "xb = x_train[0:bs]\n",
    "xb = torch.tensor(xb, dtype=torch.float32)\n",
    "\n",
    "preds = model(xb)\n",
    "print(preds[0], pred.shape)\n"
   ]
  },
  {
   "cell_type": "markdown",
   "id": "a7f9df6d",
   "metadata": {},
   "source": [
    "#### 损失函数、准确率"
   ]
  },
  {
   "cell_type": "code",
   "execution_count": null,
   "id": "9e7a21dc",
   "metadata": {},
   "outputs": [],
   "source": [
    "def nll(input, target):\n",
    "    return -input[range(target.shape[0]), target].mean()\n",
    "\n",
    "loss_func = nll\n",
    "\n",
    "yb = y_train[0:bs]\n",
    "print(loss_func)\n",
    "\n",
    "# 准确率函数\n",
    "def accuracy(out, yb):\n",
    "    preds = torch.argmax(out, dim=1)\n",
    "    return (preds == yb).float().mean()\n",
    "print(accuracy(preds, yb))\n",
    "\n"
   ]
  },
  {
   "cell_type": "markdown",
   "id": "1550826f",
   "metadata": {},
   "source": [
    "#### 梯度下降"
   ]
  },
  {
   "cell_type": "code",
   "execution_count": null,
   "id": "a87ffff3",
   "metadata": {},
   "outputs": [],
   "source": [
    "from IPython.core.debugger import set_trace\n",
    "\n",
    "lr = 0.5\n",
    "epochs = 2   # 做两次训练\n",
    "\n",
    "for epoch in range(epochs):\n",
    "    # 切分数据\n",
    "    for i in range((n-1) // bs + 1):\n",
    "        start_i = i*bs\n",
    "        end_i = start_i + bs\n",
    "        xb = x_train[start_i:end_i]\n",
    "        yb = y_train[strat_i:end_i]\n",
    "        # 预测\n",
    "        pred = model(xb)\n",
    "        loss - loss_fuc(pred, yb)\n",
    "        \n",
    "        loss.backward()\n",
    "        # 在该模块下，所有计算得出的tensor的requires_grad都自动设置为False\n",
    "        with torch.no_grad():\n",
    "            weights -= weights.grad * lr\n",
    "            bias    -= bias.grad * lr\n",
    "            weights.grad.zero_()\n",
    "            bias.grad.zero_()\n",
    "            "
   ]
  },
  {
   "cell_type": "markdown",
   "id": "d0215fa2",
   "metadata": {},
   "source": [
    "### torch.nn.functional 实现"
   ]
  },
  {
   "cell_type": "markdown",
   "id": "069492ad",
   "metadata": {},
   "source": [
    "#### 使用nn.Module重构model"
   ]
  },
  {
   "cell_type": "code",
   "execution_count": null,
   "id": "10cff643",
   "metadata": {
    "ExecuteTime": {
     "end_time": "2022-10-05T07:52:39.271617Z",
     "start_time": "2022-10-05T07:52:39.258256Z"
    }
   },
   "outputs": [],
   "source": [
    "import torch.nn.functional as F\n",
    "from torch import nn\n",
    "\n",
    "# 负对数似然损失和对数 softmax 激活，那么 Pytorch 会提供结合了两者的单一函数F.cross_entropy\n",
    "# 模型中都不用添加激活函数\n",
    "loss_func = F.cross_entropy\n",
    "\n",
    "def model(xb):\n",
    "    return xb @ weights + bias\n",
    "\n",
    "# 使用nn.Module重构model\n",
    "# nn.Module具有许多我们将要使用的属性和方法（例如.parameters()和.zero_grad()）\n",
    "class Mnist_Logistic(nn.Module):\n",
    "    def __init__(self):\n",
    "        super().__init__()\n",
    "        self.weights = nn.Parameter(torch.randn(784, 10) / math.sqrt(784))\n",
    "        self.bias = nn.Parameter(torch.zeros(10))\n",
    "    # pytorch后台会自动调用该方法    \n",
    "    def forward(self, xb):\n",
    "        return xb @ self.weights + self.bias\n",
    "    \n",
    "model = Mnist_logistic()\n",
    "\n",
    "# 自动计算forward\n",
    "print(loss_func(model(xb), yb))\n",
    "\n",
    "# 梯度下降，更新参数\n",
    "with torch.no_grad():\n",
    "    for p in model.parameters(): p -= p.grad * lr\n",
    "    model.zero_grad()\n",
    "\n",
    "# 训练 \n",
    "def fit():\n",
    "    for epoch in range(epochs):\n",
    "        for i in range((n-1) // bs + 1):\n",
    "            start_i = i * bs\n",
    "            end_i = start_i + bs\n",
    "            xb = x_train[start_i:end_i]\n",
    "            yb = y_train[start_i:end_i]\n",
    "            pred = model(xb)\n",
    "            loss = loss_func(pred, yb)\n",
    "\n",
    "            loss.backward()\n",
    "            with torch.no_grad():\n",
    "                for p in model.parameters():\n",
    "                    p -= p.grad * lr\n",
    "                model.zero_grad() "
   ]
  },
  {
   "cell_type": "markdown",
   "id": "db2ad989",
   "metadata": {},
   "source": [
    "#### 使用nn.Linear重构"
   ]
  },
  {
   "cell_type": "code",
   "execution_count": null,
   "id": "42149d13",
   "metadata": {},
   "outputs": [],
   "source": [
    "# 代替手动定义和初始化self.weights和self.bias并计算xb @ self.weights + self.bias\n",
    "class Mnist_Logistic(nn.Module):\n",
    "    def __init__(self):\n",
    "        super().__init__()\n",
    "        self.lin = nn.Linear(784, 10)\n",
    "        \n",
    "    def forward(self, xb):\n",
    "        # 线性激活函数\n",
    "        return self.lin(xb)\n",
    "    \n",
    "model = Mnist_Logistic()\n",
    "print(loss_func(model(xb), yb))\n",
    "\n",
    "fit()\n",
    "print(loss_func(model(xb), yb))"
   ]
  },
  {
   "cell_type": "markdown",
   "id": "0b38222a",
   "metadata": {
    "ExecuteTime": {
     "end_time": "2022-10-05T09:01:14.199790Z",
     "start_time": "2022-10-05T09:01:14.193701Z"
    }
   },
   "source": [
    "#### 使用optim重构"
   ]
  },
  {
   "cell_type": "code",
   "execution_count": null,
   "id": "928972c9",
   "metadata": {},
   "outputs": [],
   "source": [
    "# Pytorch 还提供了一个包含各种优化算法的包torch.optim。 \n",
    "# torch.optim.SGD(params, lr=<required parameter>, momentum=0, dampening=0, weight_decay=0, \n",
    "# nesterov=False)\n",
    "\n",
    "# 使用优化器中的step方法采取向前的步骤，而不是手动更新每个参数。\n",
    "\n",
    "with torch.no_grad():\n",
    "    for p in model.parameters(): p -= p.grad * lr\n",
    "    model.zero_grad()\n",
    "# 替换以上with\n",
    "opt.step()\n",
    "opt.zero_grad()\n",
    "\n",
    "\n",
    "def get_model():\n",
    "    model = Mnist_Logistic()\n",
    "    return model, optim.SGD(model.parameters(), lr=lr)\n",
    "\n",
    "model, opt = get_model()\n",
    "print(loss_func(model(xb), yb))\n",
    "\n",
    "for epoch in range(epochs):\n",
    "    for i in range((n - 1) // bs + 1):\n",
    "        start_i = i * bs\n",
    "        end_i = start_i + bs\n",
    "        xb = x_train[start_i:end_i]\n",
    "        yb = y_train[start_i:end_i]\n",
    "        pred = model(xb)\n",
    "        loss = loss_func(pred, yb)\n",
    "\n",
    "        loss.backward()\n",
    "        # 这里进行替换with\n",
    "        opt.step()     \n",
    "        opt.zero_grad()\n",
    "\n",
    "print(loss_func(model(xb), yb))"
   ]
  },
  {
   "cell_type": "markdown",
   "id": "a56e1975",
   "metadata": {},
   "source": [
    "#### 使用Dataset重构"
   ]
  },
  {
   "cell_type": "code",
   "execution_count": null,
   "id": "aad8090b",
   "metadata": {},
   "outputs": [],
   "source": [
    "from torch.utils.data import TensorDataset\n",
    "\n",
    "train_ds = TensorDataset(x_train, y_train)\n",
    "\n",
    "# 之前是分开遍历， 现在一起\n",
    "xb, yb = train_ds[i*bs : i*bs+bs]\n",
    "\n",
    "model, opt = get_model()\n",
    "\n",
    "for epoch in range(epochs):\n",
    "    for i in range((n - 1) // bs + 1):\n",
    "        xb, yb = train_ds[i * bs: i * bs + bs]\n",
    "        pred = model(xb)\n",
    "        loss = loss_func(pred, yb)\n",
    "\n",
    "        loss.backward()\n",
    "        opt.step()\n",
    "        opt.zero_grad()\n",
    "\n",
    "print(loss_func(model(xb), yb))"
   ]
  },
  {
   "cell_type": "markdown",
   "id": "a674bb59",
   "metadata": {},
   "source": [
    "#### 使用DataLoader重构"
   ]
  },
  {
   "cell_type": "code",
   "execution_count": null,
   "id": "b472b3cb",
   "metadata": {},
   "outputs": [],
   "source": [
    "# Pytorch 的DataLoader负责批量管理。 您可以从任何Dataset创建一个DataLoader。\n",
    "# DataLoader使迭代迭代变得更加容易。\n",
    "# 不必使用train_ds[i*bs : i*bs+bs]，DataLoader会自动为我们提供每个小批量。\n",
    "\n",
    "from torch.utils.data import DataLoader\n",
    "\n",
    "train_ds = TensorDataset(x_train, y_train)\n",
    "train_dl = DataLoader(train_ds, batch_size=bs)\n",
    "\n",
    "model, opt = get_model()\n",
    "\n",
    "for epoch in range(epochs):\n",
    "    for xb, yb in train_dl:\n",
    "        pred = model(xb)\n",
    "        loss = loss_func(pred, yb)\n",
    "\n",
    "        loss.backward()\n",
    "        opt.step()\n",
    "        opt.zero_grad()\n",
    "\n",
    "print(loss_func(model(xb), yb))"
   ]
  },
  {
   "cell_type": "markdown",
   "id": "79a58677",
   "metadata": {},
   "source": [
    "#### 添加验证\n",
    "* 将验证集的批量大小设为训练集的两倍。 这是因为验证集不需要反向传播，因此占用的内存更少（不需要存储梯度）。 \n",
    "* 我们利用这一优势来使用更大的批量，并更快地计算损失。"
   ]
  },
  {
   "cell_type": "code",
   "execution_count": null,
   "id": "98837c40",
   "metadata": {},
   "outputs": [],
   "source": [
    "train_ds = TensorDataset(x_train, y_train)\n",
    "train_dl = DataLoader(train_ds, batch_size=bs, shuffle=True)\n",
    "\n",
    "valid_ds = TensorDataset(x_valid, y_valid)\n",
    "valid_dl = DataLoader(valid_ds, batch_size=bs*2)\n",
    "\n",
    "model, opt = get_model()\n",
    "\n",
    "# 我们总是在训练之前调用model.train()，并在推理之前调用model.eval()，\n",
    "# 因为诸如nn.BatchNorm2d和nn.Dropout之类的层会使用它们，以确保这些不同阶段的行为正确\n",
    "# model.train()的作用是启用 Batch Normalization 和 Dropout\n",
    "# 如果模型中有BN层(Batch Normalization）和Dropout，需要在训练时添加model.train()。\n",
    "# model.train()是保证BN层能够用到每一批数据的均值和方差。\n",
    "# 对于Dropout，model.train()是随机取一部分网络连接来训练更新参数。\n",
    "\n",
    "# model.eval()的作用是不启用 Batch Normalization 和 Dropout。\n",
    "# 如果模型中有BN层(Batch Normalization）和Dropout，在测试时添加model.eval()。\n",
    "# model.eval()是保证BN层能够用全部训练数据的均值和方差，即测试过程中要保证BN层的均值和方差不变。\n",
    "# 对于Dropout，model.eval()是利用到了所有网络连接，即不进行随机舍弃神经元。\n",
    "# 训练完train样本后，生成的模型model要用来测试样本。在model(test)之前，需要加上model.eval()，\n",
    "# 否则的话，有输入数据，即使不训练，它也会改变权值。这是model中含有BN层和Dropout所带来的的性质。\n",
    "for epoch in range(epochs):\n",
    "    model.train()\n",
    "    for xb, yb in train_dl:\n",
    "        pred = model(xb)\n",
    "        loss = loss_func(pred, yb)\n",
    "        \n",
    "        loss.backward()\n",
    "        opt.step()\n",
    "        opt.zero_grad()\n",
    "        \n",
    "    model.eval()\n",
    "    with torch.no_grad():\n",
    "        valid_loss = sum(loss_func(model(xb), yb) for xb, yb in valid_dl)\n",
    "        \n",
    "    print(epoch, valid_loss / len(valid_dl))\n",
    "    \n",
    "# 输出\n",
    "# 0 tensor(0.3743)\n",
    "# 1 tensor(0.3316)"
   ]
  },
  {
   "cell_type": "markdown",
   "id": "67cd67d8",
   "metadata": {},
   "source": [
    "#### 创建fit() get_data()"
   ]
  },
  {
   "cell_type": "code",
   "execution_count": null,
   "id": "67bdf827",
   "metadata": {},
   "outputs": [],
   "source": [
    "# 重构函数，计算一批损失\n",
    "# 将优化器传入训练集中，然后使用它执行反向传播。 对于验证集，我们没有通过优化程序，因此该方法不会执行反向传播。\n",
    "def loss_batch(model, loss_func, xb, yb, opt=None):\n",
    "    loss = loss_func(model(xb), yb)\n",
    "    \n",
    "    if opt is not None:\n",
    "        loss.backward()\n",
    "        opt.step()\n",
    "        opt.zero_grad()\n",
    "        \n",
    "    return loss.item(), len(xb)\n",
    "\n",
    "# fit运行必要的操作来训练我们的模型，并计算每个周期的训练和验证损失。\n",
    "def fit(epochs, model, loss_func, opt, train_dl, valid_dl):\n",
    "    for epoch in range(epochs):\n",
    "        # 训练模式\n",
    "        model.train()\n",
    "        for xb, yb in train_dl:\n",
    "            loss_batch(model, loss_func, xb, yb, opt)\n",
    "        # 验证模式 \n",
    "        model.eval()\n",
    "        with torch.no_grad():\n",
    "            losses, num = zip(\n",
    "                *[loss_batch(model, loss_func, xb, yb) for xb, yb in valid_dl]\n",
    "            )\n",
    "        val_loss = np.sum(np.multiply(losses, nums)) / np.sum(nums)\n",
    "        \n",
    "        print(epoch, val_loss)\n",
    "\n",
    "        \n",
    "# get_data返回训练和验证集的数据加载器。\n",
    "def get_data(train_ds, valid_ds, bs):\n",
    "    return (\n",
    "        DataLoader(train_ds, batch_size=bs, shuffle=True),\n",
    "        DataLoader(valid_ds, batch_size=bs * 2),\n",
    "    )\n",
    "\n",
    "# 获取数据加载器和拟合模型的整个过程可以在 3 行代码中运行：\n",
    "train_dl, valid_dl = get_data(train_ds, valid_ds, bs)\n",
    "model, opt = get_model()\n",
    "fit(epochs, model, loss_func, opt, train_dl, valid_dl)\n",
    "\n",
    "# 输出如下：\n",
    "# 0 0.3120644524335861\n",
    "# 1 0.28915613491535186"
   ]
  },
  {
   "cell_type": "markdown",
   "id": "cffc82c0",
   "metadata": {},
   "source": [
    "### CNN实现"
   ]
  },
  {
   "cell_type": "markdown",
   "id": "137f23fc",
   "metadata": {},
   "source": [
    "#### 卷积层"
   ]
  },
  {
   "cell_type": "code",
   "execution_count": null,
   "id": "b2b4cb6e",
   "metadata": {},
   "outputs": [],
   "source": [
    "class Mnist_CNN(nn.Module):\n",
    "    def __init__(self):\n",
    "        super().__init__()\n",
    "        self.conv1 = nn.Conv2d(1, 16, kernel_size=3, stride=2, padding=1)\n",
    "        self.conv2 = nn.Conv2d(16, 16, kernel_size=3, stride=2, padding=1)\n",
    "        self.conv3 = nn.Conv2d(16, 10, kernel_size=3, stride=2, padding=1)\n",
    "\n",
    "    def forward(self, xb):\n",
    "        xb = xb.view(-1, 1, 28, 28)\n",
    "        xb = F.relu(self.conv1(xb))\n",
    "        xb = F.relu(self.conv2(xb))\n",
    "        xb = F.relu(self.conv3(xb))\n",
    "        # 平均池化\n",
    "        xb = F.avg_pool2d(xb, 4)\n",
    "        return xb.view(-1, xb.size(1))\n",
    "\n",
    "lr = 0.1\n",
    "\n",
    "# 动量是随机梯度下降的一种变体，它也考虑了以前的更新，通常可以加快训练速度\n",
    "model = Mnist_CNN()\n",
    "opt = optim.SGD(model.parameters(), lr=lr, momentum=0.9)\n",
    "\n",
    "fit(epochs, model, loss_func, opt, train_dl, valid_dl)"
   ]
  },
  {
   "cell_type": "markdown",
   "id": "3a761e5b",
   "metadata": {},
   "source": [
    "#### Sequential对象\n",
    "* Sequential对象以顺序方式运行其中包含的每个模块。 这是编写神经网络的一种简单方法。"
   ]
  },
  {
   "cell_type": "code",
   "execution_count": null,
   "id": "6458b309",
   "metadata": {},
   "outputs": [],
   "source": [
    "# 我们需要能够从给定的函数轻松定义自定义层。 例如，PyTorch 没有视层，我们需要为我们的网络创建一个层。 \n",
    "# Lambda将创建一个层，然后在使用Sequential定义网络时可以使用该层    \n",
    "\n",
    "class Lambda(nn.Module):   # ????????\n",
    "    def __init__(self, func):\n",
    "        super().__init__()\n",
    "        self.func = func\n",
    "        \n",
    "    def forward(self, x):\n",
    "        return self.func(x)\n",
    "\n",
    "# 数据预处理\n",
    "def preprocess(x):\n",
    "    return x.view(-1, 1, 28, 28)\n",
    "\n",
    "model = nn.Sequential(\n",
    "    Lambda(preprocess),\n",
    "    nn.Conv2d(1, 16, kernel_size=3, stride=2, padding=1),\n",
    "    nn.Relu(),\n",
    "    nn.Conv2d(16, 16, kernel_size=3, stride=2, padding=1),\n",
    "    nn.ReLU(),\n",
    "    nn.Conv2d(16, 10, kernel_size=3, stride=2, padding=1),\n",
    "    nn.ReLU(),\n",
    "    nn.AvgPool2d(4),\n",
    "    Lambda(lambda x: x.view(x.size(0), -1)),\n",
    ")\n",
    "\n",
    "opt = optim.SGD(model.parameters(), lr=lr, momentum=0.9)\n",
    "\n",
    "fit(epochs, model, loss_func, opt, train_dl, valid_dl)"
   ]
  },
  {
   "cell_type": "markdown",
   "id": "9047aa35",
   "metadata": {},
   "source": [
    "#### DataLoader包装"
   ]
  },
  {
   "cell_type": "code",
   "execution_count": null,
   "id": "26a46cd8",
   "metadata": {},
   "outputs": [],
   "source": [
    "# 假设输入向量28x28\n",
    "# 但先摆脱假设，我们可以删除初始的 Lambda 层，但将数据预处理移至生成器中\n",
    "def preprocess(x, y):\n",
    "    return x.view(-1, 1, 28, 28), y\n",
    "\n",
    "class WrappedDataLoader:\n",
    "    def __init__(self, dl, func):\n",
    "        self.dl = dl\n",
    "        self.func = func\n",
    "\n",
    "    def __len__(self):\n",
    "        return len(self.dl)\n",
    "\n",
    "    def __iter__(self):\n",
    "        batches = iter(self.dl)\n",
    "        for b in batches:\n",
    "            yield (self.func(*b))\n",
    "\n",
    "train_dl, valid_dl = get_data(train_ds, valid_ds, bs)\n",
    "train_dl = WrappedDataLoader(train_dl, preprocess)\n",
    "valid_dl = WrappedDataLoader(valid_dl, preprocess)\n",
    "\n",
    "# 将nn.AvgPool2d替换为nn.AdaptiveAvgPool2d，\n",
    "# 这使我们能够定义所需的输出张量的大小，而不是所需的输入张量的大小。 结果，我们的模型将适用于任何大小的输入。\n",
    "model = nn.Sequential(\n",
    "    nn.Conv2d(1, 16, kernel_size=3, stride=2, padding=1),\n",
    "    nn.ReLU(),\n",
    "    nn.Conv2d(16, 16, kernel_size=3, stride=2, padding=1),\n",
    "    nn.ReLU(),\n",
    "    nn.Conv2d(16, 10, kernel_size=3, stride=2, padding=1),\n",
    "    nn.ReLU(),\n",
    "    nn.AdaptiveAvgPool2d(1),\n",
    "    Lambda(lambda x: x.view(x.size(0), -1)),\n",
    ")\n",
    "\n",
    "opt = optim.SGD(model.parameters(), lr=lr, momentum=0.9)\n",
    "\n",
    "fit(epochs, model, loss_func, opt, train_dl, valid_dl)\n"
   ]
  },
  {
   "cell_type": "markdown",
   "id": "72fdb95b",
   "metadata": {},
   "source": [
    "#### 使用GPU"
   ]
  },
  {
   "cell_type": "code",
   "execution_count": 15,
   "id": "378ec474",
   "metadata": {
    "ExecuteTime": {
     "end_time": "2022-10-05T14:03:08.751944Z",
     "start_time": "2022-10-05T14:03:08.746531Z"
    }
   },
   "outputs": [],
   "source": [
    "# 创建一个设备对象\n",
    "dev = torch.device(\"cuda\") if torch.cuda.is_available() else torch.device(\"cpu\")\n",
    "\n",
    "# 将批量移至GPU\n",
    "def preprocess(x, y):\n",
    "    return x.view(-1, 1, 28, 28).to(dev), y.to(dev)\n",
    "\n",
    "train_dl, valid_dl = get_data(train_ds, valid_ds, bs)\n",
    "train_dl = WrappedDataLoader(train_dl, preprocess)\n",
    "valid_dl = WrappedDataLoader(valid_dl, preprocess)\n",
    "\n",
    "# 将模型移至GPU\n",
    "model.to(dev)\n",
    "opt = optim.SGD(model.parameters(), lr=lr, momentum=0.9)\n",
    "\n",
    "fit(epochs, model, loss_func, opt, train_dl, valid_dl)\n"
   ]
  },
  {
   "cell_type": "markdown",
   "id": "f1b512f0",
   "metadata": {},
   "source": [
    "### 总结\n",
    "torch.nn\n",
    "* Module：创建一个行为类似于函数的可调用对象，但也可以包含状态（例如神经网络层权重）。 \n",
    "* 它知道其中包含Parameter ，并且可以将其所有坡度归零，遍历它们以进行权重更新等。\n",
    "* Parameter：张量的包装器，用于告知 Module 具有在反向传播期间需要更新的权重。 \n",
    "* 仅更新具有require_grad属性集的张量\n",
    "* functional：一个模块（通常按照惯例导入到 F 名称空间中），其中包含激活函数，损失函数等。 \n",
    "* 以及卷积和线性层等层的无状态版本。\n",
    "* torch.optim：包含诸如 SGD 的优化程序，这些优化程序在后退步骤\n",
    "* Dataset 中更新 Parameter 的权重。 具有 __len__ 和 __getitem__ 的对象，\n",
    "* 包括 Pytorch 提供的类，例如 TensorDataset\n",
    "* DataLoader：获取任何 Dataset 并创建一个迭代器，该迭代器返回批量数据。"
   ]
  }
 ],
 "metadata": {
  "kernelspec": {
   "display_name": "Python 3",
   "language": "python",
   "name": "python3"
  },
  "language_info": {
   "codemirror_mode": {
    "name": "ipython",
    "version": 3
   },
   "file_extension": ".py",
   "mimetype": "text/x-python",
   "name": "python",
   "nbconvert_exporter": "python",
   "pygments_lexer": "ipython3",
   "version": "3.8.5"
  },
  "toc": {
   "base_numbering": 1,
   "nav_menu": {},
   "number_sections": true,
   "sideBar": true,
   "skip_h1_title": false,
   "title_cell": "Table of Contents",
   "title_sidebar": "Contents",
   "toc_cell": false,
   "toc_position": {
    "height": "1347.52px",
    "left": "80px",
    "top": "103.988px",
    "width": "289px"
   },
   "toc_section_display": true,
   "toc_window_display": true
  },
  "varInspector": {
   "cols": {
    "lenName": 16,
    "lenType": 16,
    "lenVar": 40
   },
   "kernels_config": {
    "python": {
     "delete_cmd_postfix": "",
     "delete_cmd_prefix": "del ",
     "library": "var_list.py",
     "varRefreshCmd": "print(var_dic_list())"
    },
    "r": {
     "delete_cmd_postfix": ") ",
     "delete_cmd_prefix": "rm(",
     "library": "var_list.r",
     "varRefreshCmd": "cat(var_dic_list()) "
    }
   },
   "types_to_exclude": [
    "module",
    "function",
    "builtin_function_or_method",
    "instance",
    "_Feature"
   ],
   "window_display": false
  }
 },
 "nbformat": 4,
 "nbformat_minor": 5
}
