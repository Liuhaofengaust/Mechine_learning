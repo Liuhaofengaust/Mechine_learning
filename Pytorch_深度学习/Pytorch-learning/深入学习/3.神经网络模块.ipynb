{
 "cells": [
  {
   "cell_type": "markdown",
   "id": "5a945c5f",
   "metadata": {},
   "source": [
    "### torch.nn\n",
    "* 神经网络模块"
   ]
  },
  {
   "cell_type": "code",
   "execution_count": 2,
   "id": "b54c2397",
   "metadata": {
    "ExecuteTime": {
     "end_time": "2022-10-03T12:16:57.218943Z",
     "start_time": "2022-10-03T12:16:57.216250Z"
    }
   },
   "outputs": [],
   "source": [
    "import torch\n",
    "import torch.nn as nn\n",
    "import torch.nn.functional as F"
   ]
  },
  {
   "cell_type": "code",
   "execution_count": 11,
   "id": "2f2cb4a6",
   "metadata": {
    "ExecuteTime": {
     "end_time": "2022-10-03T12:53:15.259254Z",
     "start_time": "2022-10-03T12:53:15.238592Z"
    }
   },
   "outputs": [
    {
     "name": "stdout",
     "output_type": "stream",
     "text": [
      "model:  Model(\n",
      "  (conv1): Conv2d(10, 20, kernel_size=(4, 4), stride=(1, 1))\n",
      "  (conv2): Conv2d(10, 20, kernel_size=(4, 4), stride=(1, 1))\n",
      "  (conv3): Conv3d(1, 10, kernel_size=(4, 4, 4), stride=(1, 1, 1))\n",
      "  (conv4): Conv3d(1, 10, kernel_size=(4, 4, 4), stride=(1, 1, 1))\n",
      ")\n",
      "children_module: Conv2d(10, 20, kernel_size=(4, 4), stride=(1, 1))\n",
      "children_module: Conv2d(10, 20, kernel_size=(4, 4), stride=(1, 1))\n",
      "children_module: Conv3d(1, 10, kernel_size=(4, 4, 4), stride=(1, 1, 1))\n",
      "modules: Model(\n",
      "  (conv1): Conv2d(10, 20, kernel_size=(4, 4), stride=(1, 1))\n",
      "  (conv2): Conv2d(10, 20, kernel_size=(4, 4), stride=(1, 1))\n",
      "  (conv3): Conv3d(1, 10, kernel_size=(4, 4, 4), stride=(1, 1, 1))\n",
      "  (conv4): Conv3d(1, 10, kernel_size=(4, 4, 4), stride=(1, 1, 1))\n",
      ")\n",
      "modules: Conv2d(10, 20, kernel_size=(4, 4), stride=(1, 1))\n",
      "modules: Conv2d(10, 20, kernel_size=(4, 4), stride=(1, 1))\n",
      "modules: Conv3d(1, 10, kernel_size=(4, 4, 4), stride=(1, 1, 1))\n",
      "conv3 module:  Conv3d(1, 10, kernel_size=(4, 4, 4), stride=(1, 1, 1))\n"
     ]
    }
   ],
   "source": [
    "# torch.nn.Module 所有网络的基类，创建模型要继承这个类\n",
    "\n",
    "# add_module(name, module)\n",
    "class Model(nn.Module):\n",
    "    def __init__(self):\n",
    "        super(Model, self).__init__()\n",
    "        self.add_module(\"conv1\", nn.Conv2d(10, 20, 4))\n",
    "        self.add_module(\"conv2\", nn.Conv2d(10, 20, 4))\n",
    "        submodule = nn.Conv3d(1, 10, 4)\n",
    "        self.add_module(\"conv3\", submodule)\n",
    "        self.add_module(\"conv4\", submodule)\n",
    "model = Model()\n",
    "print(\"model: \" ,model)\n",
    "\n",
    "# 简单的序惯模型，sequential类\n",
    "model = nn.Sequential(\n",
    "                  nn.Conv2d(1,20,5),\n",
    "                  nn.ReLU(),\n",
    "                  nn.Conv2d(20,64,5),\n",
    "                  nn.ReLU()\n",
    "                )\n",
    "\n",
    "model = nn.Sequential(OrderedDict([\n",
    "                  ('conv1', nn.Conv2d(1,20,5)),\n",
    "                  ('relu1', nn.ReLU()),\n",
    "                  ('conv2', nn.Conv2d(20,64,5)),\n",
    "                  ('relu2', nn.ReLU())\n",
    "                ]))\n",
    "\n",
    "\n",
    "# children()   返回模型的子模块,重复的只返回一次\n",
    "for sub_module in model.children():\n",
    "    print(\"children_module:\", sub_module)\n",
    "\n",
    "# modules()   返回一个完整的model，然后再返回模块，重复的只返回一次\n",
    "for module in model.modules():\n",
    "    print(\"modules:\", module)\n",
    "    \n",
    "# named_children()  按照网络名查找层\n",
    "for name, module in model.named_children():\n",
    "    if name in [\"conv3\"]:\n",
    "        print(\"conv3 module: \", module)"
   ]
  },
  {
   "cell_type": "markdown",
   "id": "42ad32e2",
   "metadata": {},
   "source": [
    "### 卷积层\n",
    "* in_channels(int) – 输入信号的通道\n",
    "* out_channels(int) – 卷积产生的通道\n",
    "* kerner_size(int or tuple) - 卷积核的尺寸\n",
    "* stride(int or tuple, optional) - 卷积步长\n",
    "* padding (int or tuple, optional)- 输入的每一条边补充0的层数\n",
    "* dilation(int or tuple, `optional``) – 卷积核元素之间的间距\n",
    "* groups(int, optional) – 从输入通道到输出通道的阻塞连接数\n",
    "* bias(bool, optional) - 如果bias=True，添加偏置\n",
    "\n",
    "* group=1，输出是所有的输入的卷积；group=2，此时相当于有并排的两个卷积层，\n",
    "* 每个卷积层计算输入通道的一半，并且产生的输出是输出通道的一半，随后将这两个输出连接起来。"
   ]
  },
  {
   "cell_type": "code",
   "execution_count": 12,
   "id": "2b3e22bf",
   "metadata": {
    "ExecuteTime": {
     "end_time": "2022-10-03T12:54:52.545336Z",
     "start_time": "2022-10-03T12:54:52.539775Z"
    }
   },
   "outputs": [],
   "source": [
    "# Conv1d  一维卷积层\n",
    "# Conv2d  二维卷积层"
   ]
  },
  {
   "cell_type": "markdown",
   "id": "87879f17",
   "metadata": {},
   "source": [
    "### 池化层\n",
    "* torch.nn.MaxPool1d(kernel_size, stride=None, padding=0, \n",
    "*                     dilation=1, return_indices=False, ceil_mode=False)\n",
    "* kernel_size(int or tuple) - max pooling的窗口大小\n",
    "* stride(int or tuple, optional) - max pooling的窗口移动的步长。默认值是kernel_size\n",
    "* padding(int or tuple, optional) - 输入的每一条边补充0的层数\n",
    "* dilation(int or tuple, optional) – 一个控制窗口中元素步幅的参数\n",
    "* return_indices - 如果等于True，会返回输出最大值的序号，对于上采样操作会有帮助\n",
    "* ceil_mode - 如果等于True，计算输出信号大小的时候，会使用向上取整，代替默认的向下取整的操作"
   ]
  },
  {
   "cell_type": "markdown",
   "id": "87e4f1ce",
   "metadata": {},
   "source": [
    "### Linear layers\n",
    "* class torch.nn.Linear(in_features, out_features, bias=True)\n"
   ]
  },
  {
   "cell_type": "markdown",
   "id": "76397311",
   "metadata": {},
   "source": [
    "### Dropout layers\n",
    "* class torch.nn.Dropout(p=0.5, inplace=False)\n",
    "* p - 将元素置0的概率。默认值：0.5\n",
    "* in-place - 若设置为True，会在原地执行操作。默认值：False"
   ]
  },
  {
   "cell_type": "markdown",
   "id": "aaa926f7",
   "metadata": {},
   "source": [
    "### 损失函数\n",
    "* class torch.nn.L1Loss(size_average=True) x,y之间差的绝对值的平均值\n",
    "* torch.nn.MSELoss(size_average=True)      x,y之间均方误差"
   ]
  },
  {
   "cell_type": "code",
   "execution_count": null,
   "id": "ace89afb",
   "metadata": {},
   "outputs": [],
   "source": [
    "### torch.nn.functional.conv1d\n",
    "* (input,weight,bias=None,stride=1,padding=0,dilation=1.groups=1)\n",
    "* 与torch.nn不同，torch.nn中包含了初始化需要的参数\n",
    "* torch.nn.functional则需要把相应的（weights）作为参数传递"
   ]
  },
  {
   "cell_type": "markdown",
   "id": "267c016c",
   "metadata": {},
   "source": [
    "### 定义网络"
   ]
  },
  {
   "cell_type": "code",
   "execution_count": null,
   "id": "c70bad60",
   "metadata": {},
   "outputs": [],
   "source": [
    "class Net(nn.Module):\n",
    "    def __init__(self):\n",
    "        super(Net, self).__init__()    # 继承父类构造函数\n",
    "        "
   ]
  }
 ],
 "metadata": {
  "kernelspec": {
   "display_name": "Python 3",
   "language": "python",
   "name": "python3"
  },
  "language_info": {
   "codemirror_mode": {
    "name": "ipython",
    "version": 3
   },
   "file_extension": ".py",
   "mimetype": "text/x-python",
   "name": "python",
   "nbconvert_exporter": "python",
   "pygments_lexer": "ipython3",
   "version": "3.8.5"
  },
  "toc": {
   "base_numbering": 1,
   "nav_menu": {},
   "number_sections": true,
   "sideBar": true,
   "skip_h1_title": false,
   "title_cell": "Table of Contents",
   "title_sidebar": "Contents",
   "toc_cell": false,
   "toc_position": {},
   "toc_section_display": true,
   "toc_window_display": true
  },
  "varInspector": {
   "cols": {
    "lenName": 16,
    "lenType": 16,
    "lenVar": 40
   },
   "kernels_config": {
    "python": {
     "delete_cmd_postfix": "",
     "delete_cmd_prefix": "del ",
     "library": "var_list.py",
     "varRefreshCmd": "print(var_dic_list())"
    },
    "r": {
     "delete_cmd_postfix": ") ",
     "delete_cmd_prefix": "rm(",
     "library": "var_list.r",
     "varRefreshCmd": "cat(var_dic_list()) "
    }
   },
   "types_to_exclude": [
    "module",
    "function",
    "builtin_function_or_method",
    "instance",
    "_Feature"
   ],
   "window_display": false
  }
 },
 "nbformat": 4,
 "nbformat_minor": 5
}
