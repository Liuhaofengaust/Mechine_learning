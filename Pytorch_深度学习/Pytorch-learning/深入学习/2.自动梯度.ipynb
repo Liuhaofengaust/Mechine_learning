{
 "cells": [
  {
   "cell_type": "markdown",
   "id": "d3d75750",
   "metadata": {},
   "source": [
    "### Autograd\n",
    "* 通过设置.requires_grad=True 来告诉Tensor类自动求导，会记住每一步操作历史.也可以冻结模型\n",
    "* 最后调用.backward()自动计算梯度，相对于某个标量值，保存到grad属性中, x.grad也是一个张量\n",
    "* grad_fn记录y是怎么来的，即y的公式"
   ]
  },
  {
   "cell_type": "code",
   "execution_count": 6,
   "id": "9f504010",
   "metadata": {
    "ExecuteTime": {
     "end_time": "2022-10-04T10:01:46.504832Z",
     "start_time": "2022-10-04T10:01:46.491575Z"
    }
   },
   "outputs": [
    {
     "name": "stdout",
     "output_type": "stream",
     "text": [
      "tensor([[1., 1.],\n",
      "        [1., 1.]], requires_grad=True)\n",
      "tensor([[0., 0.],\n",
      "        [0., 0.]], requires_grad=True)\n"
     ]
    }
   ],
   "source": [
    "import torch, torchvision\n",
    "\n",
    "x = torch.ones(2, 2, requires_grad=True)\n",
    "print(x)\n",
    "y = torch.zeros(2, 2, requires_grad=True)\n",
    "print(y)"
   ]
  },
  {
   "cell_type": "code",
   "execution_count": 7,
   "id": "15f3710f",
   "metadata": {
    "ExecuteTime": {
     "end_time": "2022-10-04T10:01:50.832812Z",
     "start_time": "2022-10-04T10:01:50.822577Z"
    }
   },
   "outputs": [
    {
     "name": "stdout",
     "output_type": "stream",
     "text": [
      "tensor(4., grad_fn=<SumBackward0>)\n"
     ]
    }
   ],
   "source": [
    "z = torch.sum(x + y)\n",
    "print(z)"
   ]
  },
  {
   "cell_type": "code",
   "execution_count": 8,
   "id": "796ce514",
   "metadata": {
    "ExecuteTime": {
     "end_time": "2022-10-04T10:01:53.682974Z",
     "start_time": "2022-10-04T10:01:53.667727Z"
    }
   },
   "outputs": [
    {
     "name": "stdout",
     "output_type": "stream",
     "text": [
      "tensor([[1., 1.],\n",
      "        [1., 1.]]) \n",
      " tensor([[1., 1.],\n",
      "        [1., 1.]])\n"
     ]
    }
   ],
   "source": [
    "# 自动求导， 对各个变量求导\n",
    "z.backward()\n",
    "print(x.grad,\"\\n\", y.grad)"
   ]
  },
  {
   "cell_type": "code",
   "execution_count": 23,
   "id": "cc248839",
   "metadata": {
    "ExecuteTime": {
     "end_time": "2022-10-04T10:16:14.703495Z",
     "start_time": "2022-10-04T10:16:14.698312Z"
    }
   },
   "outputs": [
    {
     "name": "stdout",
     "output_type": "stream",
     "text": [
      "tensor([2, 3, 4], dtype=torch.int32) torch.int32\n",
      "None\n",
      "None\n",
      "None\n"
     ]
    }
   ],
   "source": [
    "x = torch.IntTensor([1, 2, 3])\n",
    "y = torch.IntTensor([1, 1, 1])\n",
    "h = x + y\n",
    "print(h, h.dtype)\n",
    "print(h.grad)\n",
    "print(h.grad_fn)\n",
    "\n",
    "# h.backward()    # x,y没有梯度记录\n",
    "print(x.grad)"
   ]
  },
  {
   "cell_type": "code",
   "execution_count": 32,
   "id": "ba44f287",
   "metadata": {
    "ExecuteTime": {
     "end_time": "2022-10-04T10:49:43.826726Z",
     "start_time": "2022-10-04T10:49:43.817224Z"
    }
   },
   "outputs": [
    {
     "name": "stdout",
     "output_type": "stream",
     "text": [
      "tensor([[ 0.5583, -1.5237, -0.2370],\n",
      "        [ 0.7126,  0.9256,  0.3143]], requires_grad=True)\n",
      "tensor(2.0965, grad_fn=<SumBackward0>) torch.float32\n",
      "h.grad None\n",
      "h.grad None\n",
      "None\n"
     ]
    },
    {
     "name": "stderr",
     "output_type": "stream",
     "text": [
      "<ipython-input-32-17f491f8072d>:10: UserWarning: The .grad attribute of a Tensor that is not a leaf Tensor is being accessed. Its .grad attribute won't be populated during autograd.backward(). If you indeed want the gradient for a non-leaf Tensor, use .retain_grad() on the non-leaf Tensor. If you access the non-leaf Tensor by mistake, make sure you access the leaf Tensor instead. See github.com/pytorch/pytorch/pull/30531 for more informations.\n",
      "  print(\"h.grad\", h.grad)\n",
      "<ipython-input-32-17f491f8072d>:12: UserWarning: The .grad attribute of a Tensor that is not a leaf Tensor is being accessed. Its .grad attribute won't be populated during autograd.backward(). If you indeed want the gradient for a non-leaf Tensor, use .retain_grad() on the non-leaf Tensor. If you access the non-leaf Tensor by mistake, make sure you access the leaf Tensor instead. See github.com/pytorch/pytorch/pull/30531 for more informations.\n",
      "  print(\"h.grad\", h.grad)\n"
     ]
    }
   ],
   "source": [
    "dtype = torch.float\n",
    "device = torch.device(\"cpu\")\n",
    "\n",
    "a = torch.randn([ 2, 3], device=device, dtype=dtype, requires_grad=True)\n",
    "b = torch.randn([ 2, 3], device=device, dtype=dtype, requires_grad=True)\n",
    "\n",
    "h = torch.sum(a + b)\n",
    "print(a)\n",
    "print(h, h.dtype)\n",
    "print(\"h.grad\", h.grad)\n",
    "h.backward()\n",
    "print(\"h.grad\", h.grad)    # h没有梯度，因为没有对他求导，是对参数求导\n",
    "print(x.grad)"
   ]
  },
  {
   "cell_type": "code",
   "execution_count": 32,
   "id": "ba6f3a30",
   "metadata": {
    "ExecuteTime": {
     "end_time": "2022-10-03T09:36:00.742728Z",
     "start_time": "2022-10-03T09:36:00.726022Z"
    }
   },
   "outputs": [
    {
     "name": "stdout",
     "output_type": "stream",
     "text": [
      "tensor([[3., 3.],\n",
      "        [3., 3.]]) \n",
      " tensor([[6., 6.],\n",
      "        [6., 6.]])\n",
      "tensor([[0., 0.],\n",
      "        [0., 0.]])\n"
     ]
    }
   ],
   "source": [
    "# 梯度置零\n",
    "x.grad.zero_()\n",
    "print(x.grad)"
   ]
  },
  {
   "cell_type": "code",
   "execution_count": 31,
   "id": "03fc96ba",
   "metadata": {
    "ExecuteTime": {
     "end_time": "2022-10-03T09:35:32.761007Z",
     "start_time": "2022-10-03T09:35:32.755204Z"
    }
   },
   "outputs": [
    {
     "name": "stdout",
     "output_type": "stream",
     "text": [
      "tensor([[2., 2.],\n",
      "        [2., 2.]], grad_fn=<AddBackward0>)\n",
      "tensor([[2., 2.],\n",
      "        [2., 2.]])\n"
     ]
    }
   ],
   "source": [
    "h = x**2 + y**3\n",
    "print(h)\n",
    "h.backward(torch.ones_like(x))\n",
    "print(x.grad)"
   ]
  },
  {
   "cell_type": "markdown",
   "id": "4642d33f",
   "metadata": {},
   "source": [
    "### 示例"
   ]
  },
  {
   "cell_type": "code",
   "execution_count": 2,
   "id": "fe766400",
   "metadata": {
    "ExecuteTime": {
     "end_time": "2022-10-04T02:56:40.240750Z",
     "start_time": "2022-10-04T02:56:28.862895Z"
    }
   },
   "outputs": [
    {
     "name": "stderr",
     "output_type": "stream",
     "text": [
      "Downloading: \"https://download.pytorch.org/models/resnet18-5c106cde.pth\" to /home/wukong/.cache/torch/hub/checkpoints/resnet18-5c106cde.pth\n"
     ]
    },
    {
     "data": {
      "application/vnd.jupyter.widget-view+json": {
       "model_id": "c765c5c9fa7b4e7395af612b02a8ff73",
       "version_major": 2,
       "version_minor": 0
      },
      "text/plain": [
       "HBox(children=(HTML(value=''), FloatProgress(value=0.0, max=46827520.0), HTML(value='')))"
      ]
     },
     "metadata": {},
     "output_type": "display_data"
    },
    {
     "name": "stdout",
     "output_type": "stream",
     "text": [
      "\n"
     ]
    }
   ],
   "source": [
    "import torch, torchvision\n",
    "\n",
    "# 加载预训练模型\n",
    "model = torchvision.models.resnet18(pretrained=True)\n",
    "data = torch.rand(1, 3, 64, 64)\n",
    "labels = torch.rand(1, 1000)\n",
    "\n",
    "# 正向传播\n",
    "prediction = model(data)\n",
    "\n",
    "# 误差张量\n",
    "loss = (prediction - labels).sum()\n",
    "# 误差张量反向传播，autograd为每个模型参数计算梯度并存储在参数的.grad属性中\n",
    "loss.backward()\n",
    "\n",
    "# 加载SGD优化器，在优化器中注册模型的所有参数\n",
    "optim = torch.optim.SGD(model.parameters(), lr=1e-2, momentum=0.9)\n",
    "# 调用.step()启动梯度下降，优化器通过.grad中的梯度来调整每个参数\n",
    "optim.step()\n"
   ]
  },
  {
   "cell_type": "code",
   "execution_count": null,
   "id": "e5abdfb3",
   "metadata": {},
   "outputs": [],
   "source": [
    "# DAG中排除，冻结参数，已调整预训练网络\n",
    "\n",
    "from torch import nn, optim\n",
    "\n",
    "model = torchvision.models.resnet18(pretrained=True)\n",
    "\n",
    "for param in model.parameters():\n",
    "    param.requires_grad = False\n",
    "    \n",
    "# 将分类器最后一个线性层解冻\n",
    "model.fc = nn.Linear(512, 10)\n",
    "\n",
    "optimizer = optim.SGD(model.fc.parameters(), lr=1e-2, momentum=0.9)"
   ]
  },
  {
   "cell_type": "markdown",
   "id": "fecf9a6f",
   "metadata": {},
   "source": [
    "#### with torch.no_grad()"
   ]
  },
  {
   "cell_type": "code",
   "execution_count": 4,
   "id": "037a0048",
   "metadata": {
    "ExecuteTime": {
     "end_time": "2022-10-04T08:55:34.078557Z",
     "start_time": "2022-10-04T08:55:34.063157Z"
    }
   },
   "outputs": [
    {
     "name": "stdout",
     "output_type": "stream",
     "text": [
      "False\n",
      "None\n",
      "False\n",
      "True\n",
      "None\n"
     ]
    }
   ],
   "source": [
    "# with torch.no_grad() ： 清除w的梯度\n",
    "# 在该模块下，所有计算得出的tensor的requires_grad都自动设置为False，即使本来为True\n",
    "# with torch.no_grad()则主要是用于停止autograd模块的工作，以起到加速和节省显存的作用。\n",
    "# 它的作用是将该with语句包裹起来的部分停止梯度的更新，不会影响dropout层和batchnorm层\n",
    "# 从而节省了GPU算力和显存，但是并不会影响dropout和BN层的行为。\n",
    "x = torch.randn(10, 5, requires_grad = True)\n",
    "y = torch.randn(10, 5, requires_grad = True)\n",
    "z = torch.randn(10, 5, requires_grad = True)\n",
    "with torch.no_grad():\n",
    "    w = x + y + z\n",
    "    print(w.requires_grad)\n",
    "    print(w.grad_fn)\n",
    "print(w.requires_grad)\n",
    "print(x.requires_grad)\n",
    "print(x.grad_fn)        # x是叶子节点,不存在grad_fn和grad"
   ]
  },
  {
   "cell_type": "markdown",
   "id": "34541a4c",
   "metadata": {},
   "source": [
    "#### with torch.set_grad_enabled()\n",
    "* 与with troch.no_grad 相似，会将在这个with包裹下的所有的计算出的 新的变量 的required_grad 置为false。但原有的变量required_grad 不会改变。这实际上也就是影响了网络的自动求导机制。与with torch.no_grad() 相似，不过接受一个bool类型的值。"
   ]
  },
  {
   "cell_type": "code",
   "execution_count": null,
   "id": "a6eeb448",
   "metadata": {
    "ExecuteTime": {
     "end_time": "2022-10-08T01:26:45.636748Z",
     "start_time": "2022-10-08T01:26:45.158951Z"
    }
   },
   "outputs": [],
   "source": [
    "# 设置为False才有效\n",
    "torch.set_grad_enabled(False)"
   ]
  }
 ],
 "metadata": {
  "kernelspec": {
   "display_name": "Python 3",
   "language": "python",
   "name": "python3"
  },
  "language_info": {
   "codemirror_mode": {
    "name": "ipython",
    "version": 3
   },
   "file_extension": ".py",
   "mimetype": "text/x-python",
   "name": "python",
   "nbconvert_exporter": "python",
   "pygments_lexer": "ipython3",
   "version": "3.8.5"
  },
  "toc": {
   "base_numbering": 1,
   "nav_menu": {},
   "number_sections": true,
   "sideBar": true,
   "skip_h1_title": false,
   "title_cell": "Table of Contents",
   "title_sidebar": "Contents",
   "toc_cell": false,
   "toc_position": {},
   "toc_section_display": true,
   "toc_window_display": true
  },
  "varInspector": {
   "cols": {
    "lenName": 16,
    "lenType": 16,
    "lenVar": 40
   },
   "kernels_config": {
    "python": {
     "delete_cmd_postfix": "",
     "delete_cmd_prefix": "del ",
     "library": "var_list.py",
     "varRefreshCmd": "print(var_dic_list())"
    },
    "r": {
     "delete_cmd_postfix": ") ",
     "delete_cmd_prefix": "rm(",
     "library": "var_list.r",
     "varRefreshCmd": "cat(var_dic_list()) "
    }
   },
   "types_to_exclude": [
    "module",
    "function",
    "builtin_function_or_method",
    "instance",
    "_Feature"
   ],
   "window_display": false
  }
 },
 "nbformat": 4,
 "nbformat_minor": 5
}
