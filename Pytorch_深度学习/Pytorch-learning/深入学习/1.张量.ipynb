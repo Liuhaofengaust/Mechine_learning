{
 "cells": [
  {
   "cell_type": "markdown",
   "id": "c889b36c",
   "metadata": {},
   "source": [
    "### 创建张量"
   ]
  },
  {
   "cell_type": "code",
   "execution_count": 1,
   "id": "6f25fc6d",
   "metadata": {
    "ExecuteTime": {
     "end_time": "2022-10-06T01:40:22.114512Z",
     "start_time": "2022-10-06T01:40:21.555969Z"
    }
   },
   "outputs": [
    {
     "data": {
      "text/plain": [
       "'1.6.0'"
      ]
     },
     "execution_count": 1,
     "metadata": {},
     "output_type": "execute_result"
    }
   ],
   "source": [
    "import torch\n",
    "import numpy as np\n",
    "\n",
    "torch.__version__"
   ]
  },
  {
   "cell_type": "code",
   "execution_count": 14,
   "id": "ff6aa5f2",
   "metadata": {
    "ExecuteTime": {
     "end_time": "2022-10-04T01:36:58.669882Z",
     "start_time": "2022-10-04T01:36:58.659452Z"
    }
   },
   "outputs": [
    {
     "name": "stdout",
     "output_type": "stream",
     "text": [
      "a: tensor([1., 2., 3.])\n",
      "b: tensor([[-412426960,      32577, -412426960,      32577],\n",
      "        [        32,          0,        128,          0]], dtype=torch.int32)\n",
      "b: tensor([[0, 0, 0, 0],\n",
      "        [0, 0, 0, 0]], dtype=torch.int32)\n",
      "x_ones:  tensor([1., 1., 1.])\n",
      "x_rand:  tensor([0.9477, 0.4354, 0.5974])\n",
      "tensor(0, dtype=torch.int32)\n"
     ]
    }
   ],
   "source": [
    "# 从原始数据python的list或序列中构建\n",
    "a = torch.FloatTensor([1, 2, 3])\n",
    "print(\"a:\",a)\n",
    "\n",
    "# 指定数据维度创建\n",
    "b = torch.IntTensor(2, 4)\n",
    "print(\"b:\", b)\n",
    "b = torch.IntTensor(2, 4).zero_()\n",
    "print(\"b:\", b)\n",
    "\n",
    "# 通过已有的张量生成新的张量\n",
    "x_ones = torch.ones_like(a)   # 保留a的数据结构(结构、类型)属性\n",
    "print(\"x_ones: \", x_ones)\n",
    "\n",
    "x_rand = torch.rand_like(a, dtype=torch.float)  # 重写数据结构类型\n",
    "print(\"x_rand: \", x_rand)\n",
    "\n",
    "# 用python的索引或切片来获取和修改张量\n",
    "print(b[0][1])\n",
    "\n",
    "# print(torch.Storage)"
   ]
  },
  {
   "cell_type": "code",
   "execution_count": 41,
   "id": "058cc853",
   "metadata": {
    "ExecuteTime": {
     "end_time": "2022-10-03T07:16:57.158455Z",
     "start_time": "2022-10-03T07:16:57.151434Z"
    }
   },
   "outputs": [
    {
     "name": "stdout",
     "output_type": "stream",
     "text": [
      "torch.LongTensor\n",
      "torch.FloatTensor\n",
      "torch.DoubleTensor\n"
     ]
    }
   ],
   "source": [
    "# tensor()为python函数\n",
    "# torch.tensor(data, dtype=None, device=None, requires_grad=False)\n",
    "# torch.Tensor()为Tensor类函数,为默认类型torch.FloatTensor()\n",
    "\n",
    "# torch.tensor()可以从data数据部分拷贝，\n",
    "# 并根据数据类型生成LongTensor,FloatTensor,DoubleTensor\n",
    "a = torch.tensor([1, 2])\n",
    "print(a.type())\n",
    "\n",
    "b = torch.tensor([1.0, 2.0])\n",
    "print(b.type())\n",
    "\n",
    "c = torch.tensor(np.zeros(2, dtype=np.float64))\n",
    "print(c.type())"
   ]
  },
  {
   "cell_type": "code",
   "execution_count": 16,
   "id": "3b839b8b",
   "metadata": {
    "ExecuteTime": {
     "end_time": "2022-10-03T04:02:06.064003Z",
     "start_time": "2022-10-03T04:02:06.050451Z"
    }
   },
   "outputs": [
    {
     "name": "stdout",
     "output_type": "stream",
     "text": [
      "torch.Size([2, 3, 4, 5])\n",
      "tensor([[[[0.4419, 0.8428, 0.2631, 0.0157, 0.0848],\n",
      "          [0.5194, 0.0824, 0.9687, 0.0945, 0.7006],\n",
      "          [0.4351, 0.7840, 0.1971, 0.7122, 0.1910],\n",
      "          [0.5429, 0.3745, 0.1812, 0.4886, 0.2829]],\n",
      "\n",
      "         [[0.8811, 0.8688, 0.9069, 0.5204, 0.9048],\n",
      "          [0.8745, 0.7191, 0.4640, 0.2291, 0.4752],\n",
      "          [0.2083, 0.7402, 0.5745, 0.0197, 0.2595],\n",
      "          [0.4050, 0.6325, 0.4026, 0.2219, 0.1433]],\n",
      "\n",
      "         [[0.2816, 0.1163, 0.6428, 0.8223, 0.2739],\n",
      "          [0.9785, 0.0603, 0.7511, 0.0035, 0.4648],\n",
      "          [0.0091, 0.7796, 0.3286, 0.6725, 0.3407],\n",
      "          [0.6111, 0.5917, 0.3279, 0.9784, 0.6611]]],\n",
      "\n",
      "\n",
      "        [[[0.1865, 0.2501, 0.6886, 0.9537, 0.3545],\n",
      "          [0.1333, 0.6596, 0.7174, 0.3969, 0.3203],\n",
      "          [0.4217, 0.3924, 0.3141, 0.6563, 0.1456],\n",
      "          [0.0706, 0.8188, 0.4466, 0.2783, 0.9966]],\n",
      "\n",
      "         [[0.8449, 0.7769, 0.2807, 0.4947, 0.8061],\n",
      "          [0.8688, 0.0728, 0.7352, 0.4844, 0.7709],\n",
      "          [0.2897, 0.7202, 0.5584, 0.0975, 0.0861],\n",
      "          [0.0182, 0.6964, 0.9207, 0.3594, 0.3715]],\n",
      "\n",
      "         [[0.2648, 0.6862, 0.3840, 0.4881, 0.1074],\n",
      "          [0.7462, 0.8658, 0.9663, 0.7618, 0.5388],\n",
      "          [0.2578, 0.7228, 0.1323, 0.7495, 0.6768],\n",
      "          [0.7963, 0.6624, 0.4771, 0.5785, 0.8015]]]])\n",
      "torch.Size([]) torch.FloatTensor\n",
      "torch.Size([1]) torch.LongTensor\n",
      "tensor([ 1.0000,  3.2500,  5.5000,  7.7500, 10.0000]) torch.FloatTensor\n",
      "tensor([  10.0000,   31.6228,  100.0000,  316.2278, 1000.0000]) torch.FloatTensor\n"
     ]
    }
   ],
   "source": [
    "# 从内向外看，4x5，3个4x5，2个3x4x5\n",
    "# 理解为图片(bitch, channel, heigh, width)\n",
    "x = torch.rand(2, 3, 4, 5)\n",
    "print(x.shape)   #x.size()输出一样\n",
    "print(x)\n",
    "\n",
    "# 创建0阶张量\n",
    "y = torch.tensor(3.1415)\n",
    "print(y.shape, y.type())\n",
    "\n",
    "# 创建1阶张量\n",
    "y = torch.tensor([3])\n",
    "print(y.size(), y.type())\n",
    "\n",
    "y = torch.linspace(1, 10, steps=5, out=None) # 5个1-10的数字，均匀间隔\n",
    "print(y, y.type())\n",
    "\n",
    "y = torch.logspace(start=1, end=3, steps=5, out=None) #10-1000的区间,均匀间隔\n",
    "print(y, y.type())"
   ]
  },
  {
   "cell_type": "code",
   "execution_count": 3,
   "id": "680fb53c",
   "metadata": {
    "ExecuteTime": {
     "end_time": "2022-10-06T01:42:43.813329Z",
     "start_time": "2022-10-06T01:42:43.782377Z"
    }
   },
   "outputs": [
    {
     "name": "stdout",
     "output_type": "stream",
     "text": [
      "tensor([[1., 1.],\n",
      "        [1., 1.],\n",
      "        [1., 1.]]) torch.FloatTensor\n",
      "a: tensor([0.])\n",
      "d: tensor([0.])\n",
      "tensor([0.3642, 0.3181, 0.7168]) torch.FloatTensor\n",
      "a1: tensor([[0.8788, 0.1425],\n",
      "        [0.9743, 0.4818]])\n",
      "tensor([[ 0.8913, -0.7302],\n",
      "        [ 2.8133, -0.4122],\n",
      "        [-0.2524,  1.5621]])\n",
      "tensor([2, 8, 0, 7, 9, 4, 6, 5, 1, 3])\n",
      "tensor([1, 3, 5, 7, 9])\n"
     ]
    }
   ],
   "source": [
    "a = torch.ones(3, 2, out=None)  # (*size定义输入形状, out=None)\n",
    "print(a, a.type())\n",
    "\n",
    "d = torch.zeros(1, out=a)      # out表示结果同时赋给c\n",
    "print(\"a:\", a)\n",
    "print(\"d:\", d)\n",
    "\n",
    "a = torch.rand(3, out=None)    #(*size, out=None)\n",
    "print(a, a.type())\n",
    "\n",
    "a1 = torch.rand([2, 2])        # *size接收列表也读取出数据\n",
    "print(\"a1:\", a1)                 \n",
    "\n",
    "a = torch.randn(3, 2, out=None)       # 标准正态分布\n",
    "print(a)\n",
    "\n",
    "a = torch.randperm(10, out=None)      # 返回一个0-n-1的随机整数排列\n",
    "print(a)\n",
    "\n",
    "a = torch.arange(1,10,2)    #(satrt,end,step=1步长,out=None) 返回长度为end-start/step\n",
    "print(a)"
   ]
  },
  {
   "cell_type": "markdown",
   "id": "bbd4d4a8",
   "metadata": {},
   "source": [
    "### 基本类型\n",
    "* tensor和numpy数据不同是能否在GPU运行，但可以转换以解决该问题\n",
    "* float 32 torch.FloatTensor  torch.cuda.FloatTensor\n",
    "* double 64 torch.DoubleTensor\n",
    "* half   16  N                torch.cuda.HalfTensor\n",
    "* long   64 torch.LongTensor\n",
    "* int    32 torch.IntTensor\n",
    "* short  16 torch.ShortTensor\n",
    "* char    8 torch.CharTensor\n",
    "* byte    8 torch.ByteTensor\n",
    "* torch.Tensor为默认类型（torch.FloatTensor）"
   ]
  },
  {
   "cell_type": "code",
   "execution_count": 10,
   "id": "17c86312",
   "metadata": {
    "ExecuteTime": {
     "end_time": "2022-10-04T01:35:25.558189Z",
     "start_time": "2022-10-04T01:35:25.546296Z"
    }
   },
   "outputs": [
    {
     "name": "stdout",
     "output_type": "stream",
     "text": [
      "<class 'torch.Tensor'>\n",
      "torch.LongTensor\n",
      "False\n",
      "a.dtype:  torch.int64\n",
      "a.device:  cpu\n"
     ]
    }
   ],
   "source": [
    "# 输出数据类型\n",
    "a = torch.LongTensor(1)\n",
    "print(type(a))    # python内置函数\n",
    "print(a.type())   # Tensor类的成员函数\n",
    "print(isinstance(a, torch.FloatTensor))\n",
    "\n",
    "print(\"a.dtype: \", a.dtype)\n",
    "print(\"a.device: \", a.device)"
   ]
  },
  {
   "cell_type": "code",
   "execution_count": 16,
   "id": "e757c156",
   "metadata": {
    "ExecuteTime": {
     "end_time": "2022-10-02T13:22:15.024360Z",
     "start_time": "2022-10-02T13:22:15.016445Z"
    }
   },
   "outputs": [
    {
     "name": "stdout",
     "output_type": "stream",
     "text": [
      "torch.LongTensor\n",
      "torch.IntTensor\n",
      "torch.IntTensor\n"
     ]
    }
   ],
   "source": [
    "# 数据类型转换\n",
    "# 1.直接调用方法 long() int() double() float() byte()\n",
    "# 2.用成员函数type()\n",
    "# 3.a1.type_as(a2)   将a1转换为a2类型\n",
    "b = a.int()      # 不会改变a的值\n",
    "print(a.type())\n",
    "print(b.type())\n",
    "\n",
    "c = a.type(torch.IntTensor)\n",
    "print(c.type())"
   ]
  },
  {
   "cell_type": "code",
   "execution_count": 10,
   "id": "5e6497fd",
   "metadata": {
    "ExecuteTime": {
     "end_time": "2022-10-02T12:51:46.259530Z",
     "start_time": "2022-10-02T12:51:46.255766Z"
    }
   },
   "outputs": [
    {
     "name": "stdout",
     "output_type": "stream",
     "text": [
      "3.1414999961853027\n",
      "0.9253968000411987\n"
     ]
    }
   ],
   "source": [
    "# 高精度显示，item（）返回浮点型数据，在loss和accuracy用\n",
    "print(y.item())\n",
    "print(x[0,0,0,0].item())"
   ]
  },
  {
   "cell_type": "code",
   "execution_count": 53,
   "id": "730402de",
   "metadata": {
    "ExecuteTime": {
     "end_time": "2022-10-03T07:49:51.554698Z",
     "start_time": "2022-10-03T07:49:51.548168Z"
    }
   },
   "outputs": [
    {
     "name": "stdout",
     "output_type": "stream",
     "text": [
      "tensor([  795348256,       32511, -1489461408], dtype=torch.int32)\n",
      "[  795348256       32511 -1489461408]\n",
      "[[1 2]\n",
      " [3 4]\n",
      " [5 6]]\n",
      "tensor([[1, 2],\n",
      "        [3, 4],\n",
      "        [5, 6]])\n"
     ]
    }
   ],
   "source": [
    "# Tensor与ndarray转换\n",
    "a = torch.IntTensor(3)\n",
    "b = torch.tensor(3.1)\n",
    "print(a)\n",
    "numpy_a = a.numpy()   # Tensor转换为numpy\n",
    "print(numpy_a)\n",
    "\n",
    "numpy_b = np.array([\n",
    "    [1,2], [3,4], [5,6]\n",
    "])\n",
    "print(numpy_b)\n",
    "torch_b = torch.from_numpy(numpy_b) # numpy转化为tensor\n",
    "print(torch_b)\n"
   ]
  },
  {
   "cell_type": "code",
   "execution_count": null,
   "id": "ffc6a924",
   "metadata": {},
   "outputs": [],
   "source": [
    "# cpu -> Gpu Tensor.cuda()\n",
    "# Gpu -> cpu Tensor.cpu()\n",
    "\n",
    "if torch.cuda.is_available():  # 判断是否支持ＧＰＵ\n",
    "    input = a.cuda()\n",
    "else:\n",
    "    input = a\n",
    "    "
   ]
  },
  {
   "cell_type": "markdown",
   "id": "3bd5b6d1",
   "metadata": {},
   "source": [
    "### 张量运算"
   ]
  },
  {
   "cell_type": "code",
   "execution_count": 16,
   "id": "cdb8a17a",
   "metadata": {
    "ExecuteTime": {
     "end_time": "2022-10-04T01:43:38.110780Z",
     "start_time": "2022-10-04T01:43:38.083515Z"
    }
   },
   "outputs": [
    {
     "name": "stdout",
     "output_type": "stream",
     "text": [
      "a:  tensor([1., 2., 3.]) \n",
      " m:  tensor([1., 4., 9.])\n",
      "n:  tensor(14.)\n"
     ]
    }
   ],
   "source": [
    "# 张量逐个元素乘积\n",
    "m = a.mul(a)         # 等价写法 a*a\n",
    "print(\"a: \", a, \"\\n\", \"m: \", m)\n",
    "\n",
    "# 张量矩阵乘法\n",
    "n = a.matmul(a.T)    # 等价写法 a @ a.T\n",
    "print(\"n: \", n)\n"
   ]
  },
  {
   "cell_type": "code",
   "execution_count": null,
   "id": "cee384dd",
   "metadata": {},
   "outputs": [],
   "source": [
    "# 逐元素除以标量value\n",
    "torch.div(input, value, out=None)"
   ]
  },
  {
   "cell_type": "code",
   "execution_count": 39,
   "id": "f6c7aa30",
   "metadata": {
    "ExecuteTime": {
     "end_time": "2022-10-03T07:06:55.609205Z",
     "start_time": "2022-10-03T07:06:55.601798Z"
    }
   },
   "outputs": [
    {
     "name": "stdout",
     "output_type": "stream",
     "text": [
      "tensor([[-1.7674, -0.0617, -0.9939],\n",
      "        [-1.7520,  0.9254,  1.2600]])\n",
      "tensor([[-1.7674, -0.0617, -0.9939],\n",
      "        [-1.7520,  0.9254,  1.2600],\n",
      "        [-1.7674, -0.0617, -0.9939],\n",
      "        [-1.7520,  0.9254,  1.2600],\n",
      "        [-1.7674, -0.0617, -0.9939],\n",
      "        [-1.7520,  0.9254,  1.2600]])\n",
      "tensor([[-1.7674, -0.0617, -0.9939, -1.7674, -0.0617, -0.9939, -1.7674, -0.0617,\n",
      "         -0.9939],\n",
      "        [-1.7520,  0.9254,  1.2600, -1.7520,  0.9254,  1.2600, -1.7520,  0.9254,\n",
      "          1.2600]])\n",
      "(tensor([[-1.7674, -0.0617, -0.9939]]), tensor([[-1.7520,  0.9254,  1.2600]]))\n"
     ]
    }
   ],
   "source": [
    "# 拼接 torch.cat()\n",
    "x = torch.randn(2, 3)\n",
    "\n",
    "print(x)\n",
    "print(torch.cat((x, x, x), 0))  # torch.cat(input张量, dimension按照此维拼接)\n",
    "print(torch.cat((x, x, x), 1))\n",
    "\n",
    "# 分块 torch.chunk\n",
    "print(torch.chunk(x, 2, 0))    # (input, 块数，维度) 按照给定维度分块\n"
   ]
  },
  {
   "cell_type": "code",
   "execution_count": 50,
   "id": "f2c4998c",
   "metadata": {
    "ExecuteTime": {
     "end_time": "2022-10-03T07:30:21.798480Z",
     "start_time": "2022-10-03T07:30:21.778051Z"
    }
   },
   "outputs": [
    {
     "name": "stdout",
     "output_type": "stream",
     "text": [
      "tensor([1., 2., 3.])\n",
      "tensor([[2., 2.],\n",
      "        [2., 2.]])\n",
      "a: tensor([[1., 1.],\n",
      "        [1., 1.]])\n",
      "b: tensor([[3., 3.],\n",
      "        [3., 3.]])\n"
     ]
    }
   ],
   "source": [
    "# torch.abs(input, out=None)\n",
    "print(torch.abs(torch.FloatTensor([-1, 2, -3])))\n",
    "\n",
    "# torch.add(input, value每个元素都加上该值, output)\n",
    "a = torch.ones(2, 2)\n",
    "print(torch.add(a, 1, out=None))\n",
    "print(\"a:\", a)\n",
    "# (input, value, other, out) out=input+(other*value)\n",
    "b = torch.zeros(2, 2)\n",
    "c = torch.ones(2, 2)\n",
    "torch.add(a, 2, c, out=b)\n",
    "print(\"b:\", b)"
   ]
  },
  {
   "cell_type": "code",
   "execution_count": 9,
   "id": "bb4f55c3",
   "metadata": {
    "ExecuteTime": {
     "end_time": "2022-10-06T01:52:49.875677Z",
     "start_time": "2022-10-06T01:52:49.866585Z"
    }
   },
   "outputs": [
    {
     "name": "stdout",
     "output_type": "stream",
     "text": [
      "a: tensor([[0.2725, 0.4186, 0.8075],\n",
      "        [0.3155, 0.5448, 0.1719]])\n",
      "a.view(1,6) tensor([[0.2725, 0.4186, 0.8075, 0.3155, 0.5448, 0.1719]])\n",
      "a.view(6,1) tensor([[0.2725],\n",
      "        [0.4186],\n",
      "        [0.8075],\n",
      "        [0.3155],\n",
      "        [0.5448],\n",
      "        [0.1719]])\n",
      "torch.Size([3, 4, 2])\n",
      "torch.Size([3, 2, 4])\n",
      "torch.Size([3, 8])\n"
     ]
    }
   ],
   "source": [
    "# view\n",
    "a = torch.rand(2, 3)\n",
    "print(\"a:\", a)\n",
    "print(\"a.view(1,6)\", a.view(1,6))\n",
    "print(\"a.view(6,1)\", a.view(6,1))\n",
    "\n",
    "# 某个维度-1代替，自动计算大小\n",
    "a = torch.rand(2, 3, 4)\n",
    "print(a.view(3, -1, 2).size())\n",
    "print(a.view([3, 2, -1]).size())\n",
    "# print(a.view(3, 5, -1).size()) error\n",
    "print(a.view(3, -1).size())"
   ]
  },
  {
   "cell_type": "code",
   "execution_count": null,
   "id": "ffcf458d",
   "metadata": {},
   "outputs": [],
   "source": []
  }
 ],
 "metadata": {
  "kernelspec": {
   "display_name": "Python 3",
   "language": "python",
   "name": "python3"
  },
  "language_info": {
   "codemirror_mode": {
    "name": "ipython",
    "version": 3
   },
   "file_extension": ".py",
   "mimetype": "text/x-python",
   "name": "python",
   "nbconvert_exporter": "python",
   "pygments_lexer": "ipython3",
   "version": "3.8.5"
  },
  "toc": {
   "base_numbering": 1,
   "nav_menu": {},
   "number_sections": true,
   "sideBar": true,
   "skip_h1_title": false,
   "title_cell": "Table of Contents",
   "title_sidebar": "Contents",
   "toc_cell": false,
   "toc_position": {
    "height": "1347.52px",
    "left": "184px",
    "top": "213.988px",
    "width": "215.241px"
   },
   "toc_section_display": true,
   "toc_window_display": true
  },
  "varInspector": {
   "cols": {
    "lenName": 16,
    "lenType": 16,
    "lenVar": 40
   },
   "kernels_config": {
    "python": {
     "delete_cmd_postfix": "",
     "delete_cmd_prefix": "del ",
     "library": "var_list.py",
     "varRefreshCmd": "print(var_dic_list())"
    },
    "r": {
     "delete_cmd_postfix": ") ",
     "delete_cmd_prefix": "rm(",
     "library": "var_list.r",
     "varRefreshCmd": "cat(var_dic_list()) "
    }
   },
   "position": {
    "height": "292.819px",
    "left": "810.554px",
    "right": "20px",
    "top": "64.9639px",
    "width": "636px"
   },
   "types_to_exclude": [
    "module",
    "function",
    "builtin_function_or_method",
    "instance",
    "_Feature"
   ],
   "window_display": false
  }
 },
 "nbformat": 4,
 "nbformat_minor": 5
}
