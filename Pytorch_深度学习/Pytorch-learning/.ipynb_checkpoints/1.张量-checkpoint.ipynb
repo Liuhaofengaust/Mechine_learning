{
 "cells": [
  {
   "cell_type": "markdown",
   "id": "bebd5e51",
   "metadata": {
    "ExecuteTime": {
     "end_time": "2022-10-02T07:38:44.351349Z",
     "start_time": "2022-10-02T07:38:44.342118Z"
    }
   },
   "source": [
    "### Tensors 是一个张量\n",
    "* 实际为多维数组，目的为创建高维度的矩阵、向量\n",
    "* 0阶(rank)为点，二阶为矩阵，三阶为多通道图片，四阶为多张多通道图片。。。 左边有几个[就是几维(nidm)\n",
    "* 形状(shape)：[1,3,5]  第一维有1个元素(二维张量)，第二维有3个元素(一维张量)，第三维有5个元素。 1行3列5层(深度)\n",
    "*             [2,1,3,5]  两个1行3列5层的张量组合\n",
    "\n",
    "* 左边第一个中括号内有3个元素被隔开，因此形状的第一个元素n1 = 3，说明行为3；\n",
    "* 左边第二个中括号内有2个元素被隔开，因此形状的第二个元素n2 = 2，说明列为2；\n",
    "* 左边第三个中括号内有2个元素被隔开，因此形状的第三个元素n3 = 2，说明深度为2；\n",
    "* t = torch.rand([[[1,2],[3,4]],[[5,6],[7,8]],[[9,10],[11,12]]] tf.float32) #三维张量，形状为（3，2，2）"
   ]
  },
  {
   "cell_type": "markdown",
   "id": "941afba4",
   "metadata": {
    "ExecuteTime": {
     "end_time": "2022-10-02T07:38:44.364787Z",
     "start_time": "2022-10-02T07:38:44.353129Z"
    }
   },
   "source": [
    "### 创建Tensor"
   ]
  },
  {
   "cell_type": "code",
   "execution_count": 2,
   "id": "34db0e6a",
   "metadata": {
    "ExecuteTime": {
     "end_time": "2022-10-02T11:49:16.158773Z",
     "start_time": "2022-10-02T11:49:15.800251Z"
    }
   },
   "outputs": [
    {
     "name": "stdout",
     "output_type": "stream",
     "text": [
      "tensor([[1.7699e+09, 4.5674e-41, 1.7699e+09],\n",
      "        [4.5674e-41, 3.5301e-12, 1.7743e+28],\n",
      "        [6.8239e+16, 2.7685e+20, 1.8807e+31],\n",
      "        [6.9983e+28, 3.0303e+24, 1.0305e+21],\n",
      "        [7.1833e+22, 1.2102e+25, 1.2415e+28]])\n"
     ]
    }
   ],
   "source": [
    "from __future__ import print_function\n",
    "import torch\n",
    "\n",
    "# 创建一个5x3的矩阵，未初始化, 一般不用这个，用zeros\n",
    "x = torch.empty(5, 3)\n",
    "print(x)"
   ]
  },
  {
   "cell_type": "code",
   "execution_count": 4,
   "id": "066b7b6d",
   "metadata": {
    "ExecuteTime": {
     "end_time": "2022-10-02T11:51:45.670276Z",
     "start_time": "2022-10-02T11:51:45.664112Z"
    }
   },
   "outputs": [
    {
     "name": "stdout",
     "output_type": "stream",
     "text": [
      "tensor([[[0.2921, 0.5277, 0.1806, 0.7617],\n",
      "         [0.8015, 0.8953, 0.3728, 0.3634],\n",
      "         [0.8626, 0.2048, 0.5152, 0.3685]],\n",
      "\n",
      "        [[0.9486, 0.2486, 0.0017, 0.4970],\n",
      "         [0.5445, 0.7072, 0.1891, 0.5860],\n",
      "         [0.3626, 0.0489, 0.8375, 0.5103]]])\n",
      "tensor([[[[0.3881, 0.0409, 0.4315, 0.0189, 0.2085],\n",
      "          [0.1773, 0.2463, 0.0622, 0.9412, 0.4111],\n",
      "          [0.6361, 0.9637, 0.3271, 0.6801, 0.1099],\n",
      "          [0.9711, 0.6815, 0.5585, 0.5312, 0.3234]],\n",
      "\n",
      "         [[0.8096, 0.3140, 0.9909, 0.6629, 0.0371],\n",
      "          [0.7558, 0.4589, 0.7272, 0.9839, 0.6563],\n",
      "          [0.3151, 0.5966, 0.2453, 0.4555, 0.6440],\n",
      "          [0.2869, 0.3805, 0.8270, 0.8266, 0.2434]]],\n",
      "\n",
      "\n",
      "        [[[0.7036, 0.0539, 0.4547, 0.1776, 0.7123],\n",
      "          [0.1129, 0.3462, 0.8779, 0.1363, 0.8770],\n",
      "          [0.0826, 0.5969, 0.6872, 0.8789, 0.2673],\n",
      "          [0.9214, 0.3924, 0.4292, 0.1842, 0.3903]],\n",
      "\n",
      "         [[0.4996, 0.6418, 0.1286, 0.3923, 0.6264],\n",
      "          [0.2175, 0.8458, 0.8549, 0.4163, 0.1894],\n",
      "          [0.9754, 0.6163, 0.0368, 0.2786, 0.5103],\n",
      "          [0.9453, 0.0287, 0.8776, 0.2474, 0.4521]]]])\n"
     ]
    }
   ],
   "source": [
    "# 创建一个随机初始化的矩阵\n",
    "# rand初始化0-1之间均匀分布的随机数，randn初始化标准正态分布的随机数，randi生成均匀分布的伪随机数整数\n",
    "x = torch.rand(2, 3, 4)\n",
    "print(x)\n",
    "\n",
    "# Tensor本质为张量，但可以理解为图像(bitch, channel, height, width)\n",
    "x = torch.rand(2, 2, 4, 5)\n",
    "print(x)"
   ]
  },
  {
   "cell_type": "code",
   "execution_count": 7,
   "id": "3cbbdd6c",
   "metadata": {
    "ExecuteTime": {
     "end_time": "2022-10-02T07:38:44.938861Z",
     "start_time": "2022-10-02T07:38:44.935422Z"
    }
   },
   "outputs": [
    {
     "name": "stdout",
     "output_type": "stream",
     "text": [
      "tensor([[0, 0, 0],\n",
      "        [0, 0, 0],\n",
      "        [0, 0, 0],\n",
      "        [0, 0, 0],\n",
      "        [0, 0, 0]])\n"
     ]
    }
   ],
   "source": [
    "# 填充0的矩阵，指定数据类型为long\n",
    "x = torch.zeros(5, 3, dtype=torch.long)\n",
    "print(x)\n",
    "# torch.ones(5, 3)"
   ]
  },
  {
   "cell_type": "code",
   "execution_count": 8,
   "id": "e6cb0edd",
   "metadata": {
    "ExecuteTime": {
     "end_time": "2022-10-02T07:38:44.943684Z",
     "start_time": "2022-10-02T07:38:44.940270Z"
    }
   },
   "outputs": [
    {
     "name": "stdout",
     "output_type": "stream",
     "text": [
      "tensor([5.5000, 3.0000])\n"
     ]
    }
   ],
   "source": [
    "# 创建张量\n",
    "x = torch.tensor([5.5, 3])\n",
    "print(x)"
   ]
  },
  {
   "cell_type": "code",
   "execution_count": 9,
   "id": "06bfc854",
   "metadata": {
    "ExecuteTime": {
     "end_time": "2022-10-02T07:38:44.952016Z",
     "start_time": "2022-10-02T07:38:44.945463Z"
    }
   },
   "outputs": [
    {
     "name": "stdout",
     "output_type": "stream",
     "text": [
      "tensor([[1., 1., 1.],\n",
      "        [1., 1., 1.],\n",
      "        [1., 1., 1.],\n",
      "        [1., 1., 1.],\n",
      "        [1., 1., 1.]], dtype=torch.float64)\n",
      "tensor([[0.5362, 0.9312, 0.4386],\n",
      "        [0.1875, 0.0351, 0.8266],\n",
      "        [0.3999, 0.3388, 0.6955],\n",
      "        [0.9846, 0.5539, 0.2992],\n",
      "        [0.8678, 0.3523, 0.5247]])\n",
      "tensor([[1., 1., 1.],\n",
      "        [1., 1., 1.],\n",
      "        [1., 1., 1.],\n",
      "        [1., 1., 1.],\n",
      "        [1., 1., 1.]])\n"
     ]
    }
   ],
   "source": [
    "# 根据现有张量创建张量\n",
    "x = x.new_ones(5, 3, dtype=torch.double)\n",
    "print(x)\n",
    "\n",
    "x = torch.rand_like(x, dtype=torch.float) #依照输入数据的形式创建随机浮点型张量\n",
    "print(x)\n",
    "x = torch.ones_like(x, dtype=torch.float)\n",
    "print(x)"
   ]
  },
  {
   "cell_type": "code",
   "execution_count": 10,
   "id": "674e6de0",
   "metadata": {
    "ExecuteTime": {
     "end_time": "2022-10-02T07:38:44.957546Z",
     "start_time": "2022-10-02T07:38:44.954782Z"
    }
   },
   "outputs": [
    {
     "name": "stdout",
     "output_type": "stream",
     "text": [
      "torch.Size([5, 3])\n"
     ]
    }
   ],
   "source": [
    "print(x.size())"
   ]
  },
  {
   "cell_type": "markdown",
   "id": "4a1f0228",
   "metadata": {
    "ExecuteTime": {
     "end_time": "2022-10-02T07:38:44.963474Z",
     "start_time": "2022-10-02T07:38:44.959987Z"
    }
   },
   "source": [
    "### Tensor操作"
   ]
  },
  {
   "cell_type": "code",
   "execution_count": 12,
   "id": "aece4def",
   "metadata": {
    "ExecuteTime": {
     "end_time": "2022-10-02T07:38:44.970907Z",
     "start_time": "2022-10-02T07:38:44.965019Z"
    }
   },
   "outputs": [
    {
     "name": "stdout",
     "output_type": "stream",
     "text": [
      "tensor([[1.0018, 1.3200, 1.4241],\n",
      "        [1.4646, 1.4921, 1.2618],\n",
      "        [1.5317, 1.7774, 1.8279],\n",
      "        [1.6238, 1.2770, 1.2795],\n",
      "        [1.2458, 1.8430, 1.2111]])\n",
      "tensor([[1.0018, 1.3200, 1.4241],\n",
      "        [1.4646, 1.4921, 1.2618],\n",
      "        [1.5317, 1.7774, 1.8279],\n",
      "        [1.6238, 1.2770, 1.2795],\n",
      "        [1.2458, 1.8430, 1.2111]])\n"
     ]
    }
   ],
   "source": [
    "# 加法操作   注意shape要一致\n",
    "y = torch.rand(5, 3)\n",
    "print(x + y)\n",
    "\n",
    "print(torch.add(x, y))"
   ]
  },
  {
   "cell_type": "code",
   "execution_count": 13,
   "id": "42356904",
   "metadata": {
    "ExecuteTime": {
     "end_time": "2022-10-02T07:38:44.978921Z",
     "start_time": "2022-10-02T07:38:44.972878Z"
    }
   },
   "outputs": [
    {
     "name": "stdout",
     "output_type": "stream",
     "text": [
      "tensor([[1.0018, 1.3200, 1.4241],\n",
      "        [1.4646, 1.4921, 1.2618],\n",
      "        [1.5317, 1.7774, 1.8279],\n",
      "        [1.6238, 1.2770, 1.2795],\n",
      "        [1.2458, 1.8430, 1.2111]])\n",
      "tensor([[2.0018, 2.3200, 2.4241],\n",
      "        [2.4646, 2.4921, 2.2618],\n",
      "        [2.5317, 2.7774, 2.8279],\n",
      "        [2.6238, 2.2770, 2.2795],\n",
      "        [2.2458, 2.8430, 2.2111]])\n"
     ]
    }
   ],
   "source": [
    "# 替换原变量的操作\n",
    "y = x + y\n",
    "print(y)\n",
    "\n",
    "y.add_(x) # 任何以_结尾的操作都会用结果替换原变量. 例如:x.copy_(y),x.t_(),都会改变x\n",
    "print(y)"
   ]
  },
  {
   "cell_type": "code",
   "execution_count": 14,
   "id": "dcac8482",
   "metadata": {
    "ExecuteTime": {
     "end_time": "2022-10-02T07:38:44.987970Z",
     "start_time": "2022-10-02T07:38:44.981586Z"
    }
   },
   "outputs": [
    {
     "name": "stdout",
     "output_type": "stream",
     "text": [
      "tensor([[1., 1., 1.],\n",
      "        [1., 1., 1.],\n",
      "        [1., 1., 1.],\n",
      "        [1., 1., 1.],\n",
      "        [1., 1., 1.]])\n",
      "tensor([[3.0018, 3.3200, 3.4241],\n",
      "        [3.4646, 3.4921, 3.2618],\n",
      "        [3.5317, 3.7774, 3.8279],\n",
      "        [3.6238, 3.2770, 3.2795],\n",
      "        [3.2458, 3.8430, 3.2111]])\n"
     ]
    }
   ],
   "source": [
    "# 指定输出\n",
    "result = torch.ones(5, 3)\n",
    "print(result)\n",
    "torch.add(x, y, out=result)    # 覆盖掉result的值\n",
    "print(result)"
   ]
  },
  {
   "cell_type": "code",
   "execution_count": 15,
   "id": "72ae07c7",
   "metadata": {
    "ExecuteTime": {
     "end_time": "2022-10-02T07:38:44.995406Z",
     "start_time": "2022-10-02T07:38:44.990271Z"
    }
   },
   "outputs": [
    {
     "name": "stdout",
     "output_type": "stream",
     "text": [
      "tensor([[2.0018, 2.3200, 2.4241],\n",
      "        [2.4646, 2.4921, 2.2618],\n",
      "        [2.5317, 2.7774, 2.8279],\n",
      "        [2.6238, 2.2770, 2.2795],\n",
      "        [2.2458, 2.8430, 2.2111]])\n",
      "tensor([2.0018, 2.4646, 2.5317, 2.6238, 2.2458])\n"
     ]
    }
   ],
   "source": [
    "# tensor和Numpy的索引一样\n",
    "print(y)\n",
    "print(y[:, 0])"
   ]
  },
  {
   "cell_type": "code",
   "execution_count": 16,
   "id": "b969be60",
   "metadata": {
    "ExecuteTime": {
     "end_time": "2022-10-02T07:38:45.006573Z",
     "start_time": "2022-10-02T07:38:44.997752Z"
    }
   },
   "outputs": [
    {
     "name": "stdout",
     "output_type": "stream",
     "text": [
      "x: tensor([[-0.5387, -0.8208,  0.5940, -0.4989],\n",
      "        [-0.0413, -0.4651,  1.8327,  0.3644],\n",
      "        [-0.9701,  2.6378, -0.3232,  2.7998],\n",
      "        [-0.4114,  0.4584, -1.8326, -0.6496]]) \n",
      " y: tensor([-0.5387, -0.8208,  0.5940, -0.4989, -0.0413, -0.4651,  1.8327,  0.3644,\n",
      "        -0.9701,  2.6378, -0.3232,  2.7998, -0.4114,  0.4584, -1.8326, -0.6496]) \n",
      " z: tensor([[-0.5387, -0.8208,  0.5940, -0.4989, -0.0413, -0.4651,  1.8327,  0.3644],\n",
      "        [-0.9701,  2.6378, -0.3232,  2.7998, -0.4114,  0.4584, -1.8326, -0.6496]])\n",
      "torch.Size([4, 4]) torch.Size([16]) torch.Size([2, 8])\n"
     ]
    }
   ],
   "source": [
    "# view相当于Numpy的reshape\n",
    "x = torch.randn(4, 4)\n",
    "y = x.view(16)\n",
    "z = x.view(-1, 8)\n",
    "print(\"x:\", x,\"\\n\",\"y:\", y,\"\\n\",\"z:\", z)\n",
    "print(x.size(), y.size(), z.size())"
   ]
  },
  {
   "cell_type": "code",
   "execution_count": 17,
   "id": "1dda79d1",
   "metadata": {
    "ExecuteTime": {
     "end_time": "2022-10-02T07:38:45.015840Z",
     "start_time": "2022-10-02T07:38:45.009429Z"
    }
   },
   "outputs": [
    {
     "name": "stdout",
     "output_type": "stream",
     "text": [
      "tensor([1.])\n",
      "1.0\n",
      "tensor([0.4536])\n",
      "0.45355331897735596\n"
     ]
    }
   ],
   "source": [
    "# 如果你有只有一个元素的张量，使用.item()来得到Python数据类型的数值\n",
    "x = torch.ones(1)\n",
    "print(x)\n",
    "print(x.item())\n",
    "\n",
    "y = torch.rand(1)\n",
    "print(y)\n",
    "print(y.item())"
   ]
  },
  {
   "cell_type": "markdown",
   "id": "a4b20870",
   "metadata": {
    "ExecuteTime": {
     "end_time": "2022-10-02T07:38:45.023038Z",
     "start_time": "2022-10-02T07:38:45.018453Z"
    }
   },
   "source": [
    "### Numpy与Tensor转换\n",
    "* Torch Tensor与NumPy数组共享底层内存地址，修改一个会导致另一个的变化. 两者非常容易变换"
   ]
  },
  {
   "cell_type": "code",
   "execution_count": 19,
   "id": "51a28d6c",
   "metadata": {
    "ExecuteTime": {
     "end_time": "2022-10-02T07:38:45.031703Z",
     "start_time": "2022-10-02T07:38:45.025815Z"
    }
   },
   "outputs": [
    {
     "name": "stdout",
     "output_type": "stream",
     "text": [
      "tensor([[1., 1.],\n",
      "        [1., 1.],\n",
      "        [1., 1.],\n",
      "        [1., 1.],\n",
      "        [1., 1.]])\n",
      "[[1. 1.]\n",
      " [1. 1.]\n",
      " [1. 1.]\n",
      " [1. 1.]\n",
      " [1. 1.]]\n"
     ]
    }
   ],
   "source": [
    "# 将一个Torch Tensor转换为NumPy数组\n",
    "a = torch.ones(5, 2)\n",
    "print(a)\n",
    "\n",
    "b = a.numpy()\n",
    "print(b)"
   ]
  },
  {
   "cell_type": "code",
   "execution_count": 20,
   "id": "c8753146",
   "metadata": {
    "ExecuteTime": {
     "end_time": "2022-10-02T07:38:45.038989Z",
     "start_time": "2022-10-02T07:38:45.033916Z"
    }
   },
   "outputs": [
    {
     "name": "stdout",
     "output_type": "stream",
     "text": [
      "a: tensor([[2., 2.],\n",
      "        [2., 2.],\n",
      "        [2., 2.],\n",
      "        [2., 2.],\n",
      "        [2., 2.]]) \n",
      " b: [[2. 2.]\n",
      " [2. 2.]\n",
      " [2. 2.]\n",
      " [2. 2.]\n",
      " [2. 2.]]\n"
     ]
    }
   ],
   "source": [
    "#a,b同时都变\n",
    "a.add_(1)\n",
    "print(\"a:\", a, \"\\n\", \"b:\", b)"
   ]
  },
  {
   "cell_type": "code",
   "execution_count": 21,
   "id": "d9346152",
   "metadata": {
    "ExecuteTime": {
     "end_time": "2022-10-02T07:38:45.057198Z",
     "start_time": "2022-10-02T07:38:45.041713Z"
    }
   },
   "outputs": [
    {
     "name": "stdout",
     "output_type": "stream",
     "text": [
      "a:  [2. 2. 2. 2. 2.] \n",
      " b:  tensor([2., 2., 2., 2., 2.], dtype=torch.float64)\n"
     ]
    }
   ],
   "source": [
    "# NumPy Array 转化成 Torch Tensor\n",
    "import numpy as np\n",
    "a = np.ones(5)\n",
    "b = torch.from_numpy(a)\n",
    "np.add(a, 1, out=a)\n",
    "print(\"a: \", a, \"\\n\", \"b: \", b)"
   ]
  },
  {
   "cell_type": "markdown",
   "id": "97c9b1f4",
   "metadata": {
    "ExecuteTime": {
     "end_time": "2022-10-02T07:45:21.814953Z",
     "start_time": "2022-10-02T07:45:21.809371Z"
    }
   },
   "source": [
    "### .to方法，将tensor移动到任何设备"
   ]
  },
  {
   "cell_type": "code",
   "execution_count": 23,
   "id": "91fa97d7",
   "metadata": {
    "ExecuteTime": {
     "end_time": "2022-10-02T07:38:45.067793Z",
     "start_time": "2022-10-02T07:38:45.064258Z"
    }
   },
   "outputs": [],
   "source": [
    "# is_available 函数判断是否有cuda可以使用\n",
    "# torch.device 将张量移动到指定的设备中\n",
    "\n",
    "if torch.cuda.is_available():\n",
    "    device = torch.device(\"cuda\")    # a cuda 设备对象\n",
    "    y = torch.ones_like(x, device=device) # 直接从GPU创建张量\n",
    "    x = x.to(device)                      # 将x张量移动到cuda设备中\n",
    "    z = x + y\n",
    "    print(z)\n",
    "    print(z.to(\"cpu\", torch,double))      # 也可以对变量类型做更改"
   ]
  },
  {
   "cell_type": "code",
   "execution_count": null,
   "id": "70f8c108",
   "metadata": {},
   "outputs": [],
   "source": []
  },
  {
   "cell_type": "code",
   "execution_count": null,
   "id": "bfa8bfb8",
   "metadata": {},
   "outputs": [],
   "source": []
  }
 ],
 "metadata": {
  "kernelspec": {
   "display_name": "Python 3",
   "language": "python",
   "name": "python3"
  },
  "language_info": {
   "codemirror_mode": {
    "name": "ipython",
    "version": 3
   },
   "file_extension": ".py",
   "mimetype": "text/x-python",
   "name": "python",
   "nbconvert_exporter": "python",
   "pygments_lexer": "ipython3",
   "version": "3.8.5"
  },
  "toc": {
   "base_numbering": 1,
   "nav_menu": {},
   "number_sections": true,
   "sideBar": true,
   "skip_h1_title": false,
   "title_cell": "Table of Contents",
   "title_sidebar": "Contents",
   "toc_cell": false,
   "toc_position": {},
   "toc_section_display": true,
   "toc_window_display": true
  },
  "varInspector": {
   "cols": {
    "lenName": 16,
    "lenType": 16,
    "lenVar": 40
   },
   "kernels_config": {
    "python": {
     "delete_cmd_postfix": "",
     "delete_cmd_prefix": "del ",
     "library": "var_list.py",
     "varRefreshCmd": "print(var_dic_list())"
    },
    "r": {
     "delete_cmd_postfix": ") ",
     "delete_cmd_prefix": "rm(",
     "library": "var_list.r",
     "varRefreshCmd": "cat(var_dic_list()) "
    }
   },
   "position": {
    "height": "323.838px",
    "left": "974.405px",
    "right": "20px",
    "top": "102px",
    "width": "621px"
   },
   "types_to_exclude": [
    "module",
    "function",
    "builtin_function_or_method",
    "instance",
    "_Feature"
   ],
   "window_display": false
  }
 },
 "nbformat": 4,
 "nbformat_minor": 5
}
